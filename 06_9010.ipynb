{
 "cells": [
  {
   "cell_type": "code",
   "execution_count": 1,
   "metadata": {},
   "outputs": [],
   "source": [
    "import pandas as pd\n",
    "from sklearn import model_selection\n",
    "from sklearn.model_selection import train_test_split\n",
    "from sklearn import svm\n",
    "\n",
    "# Packages for visuals\n",
    "import matplotlib.pyplot as plt\n",
    "import seaborn as sns; sns.set(font_scale=1.2)"
   ]
  },
  {
   "cell_type": "code",
   "execution_count": 2,
   "metadata": {},
   "outputs": [
    {
     "data": {
      "text/html": [
       "<div>\n",
       "<style scoped>\n",
       "    .dataframe tbody tr th:only-of-type {\n",
       "        vertical-align: middle;\n",
       "    }\n",
       "\n",
       "    .dataframe tbody tr th {\n",
       "        vertical-align: top;\n",
       "    }\n",
       "\n",
       "    .dataframe thead th {\n",
       "        text-align: right;\n",
       "    }\n",
       "</style>\n",
       "<table border=\"1\" class=\"dataframe\">\n",
       "  <thead>\n",
       "    <tr style=\"text-align: right;\">\n",
       "      <th></th>\n",
       "      <th>Steming</th>\n",
       "      <th>Label</th>\n",
       "    </tr>\n",
       "  </thead>\n",
       "  <tbody>\n",
       "    <tr>\n",
       "      <th>0</th>\n",
       "      <td>terimakasih</td>\n",
       "      <td>Positif</td>\n",
       "    </tr>\n",
       "    <tr>\n",
       "      <th>1</th>\n",
       "      <td>nyimpan gamenya gimana</td>\n",
       "      <td>Positif</td>\n",
       "    </tr>\n",
       "    <tr>\n",
       "      <th>2</th>\n",
       "      <td>save world</td>\n",
       "      <td>Positif</td>\n",
       "    </tr>\n",
       "    <tr>\n",
       "      <th>3</th>\n",
       "      <td>bagus</td>\n",
       "      <td>Positif</td>\n",
       "    </tr>\n",
       "    <tr>\n",
       "      <th>4</th>\n",
       "      <td>subscribe boss terimakasih</td>\n",
       "      <td>Positif</td>\n",
       "    </tr>\n",
       "    <tr>\n",
       "      <th>...</th>\n",
       "      <td>...</td>\n",
       "      <td>...</td>\n",
       "    </tr>\n",
       "    <tr>\n",
       "      <th>142</th>\n",
       "      <td>matur terimakasih</td>\n",
       "      <td>Positif</td>\n",
       "    </tr>\n",
       "    <tr>\n",
       "      <th>143</th>\n",
       "      <td>simak kemarin tinggal</td>\n",
       "      <td>Netral</td>\n",
       "    </tr>\n",
       "    <tr>\n",
       "      <th>144</th>\n",
       "      <td>simak</td>\n",
       "      <td>Netral</td>\n",
       "    </tr>\n",
       "    <tr>\n",
       "      <th>145</th>\n",
       "      <td>terimakasih</td>\n",
       "      <td>Positif</td>\n",
       "    </tr>\n",
       "    <tr>\n",
       "      <th>146</th>\n",
       "      <td>password dimasukin gan</td>\n",
       "      <td>Netral</td>\n",
       "    </tr>\n",
       "  </tbody>\n",
       "</table>\n",
       "<p>147 rows × 2 columns</p>\n",
       "</div>"
      ],
      "text/plain": [
       "                        Steming    Label\n",
       "0                   terimakasih  Positif\n",
       "1        nyimpan gamenya gimana  Positif\n",
       "2                    save world  Positif\n",
       "3                         bagus  Positif\n",
       "4    subscribe boss terimakasih  Positif\n",
       "..                          ...      ...\n",
       "142           matur terimakasih  Positif\n",
       "143       simak kemarin tinggal   Netral\n",
       "144                       simak   Netral\n",
       "145                 terimakasih  Positif\n",
       "146      password dimasukin gan   Netral\n",
       "\n",
       "[147 rows x 2 columns]"
      ]
     },
     "execution_count": 2,
     "metadata": {},
     "output_type": "execute_result"
    }
   ],
   "source": [
    "df = pd.read_csv('maribelajar-labeling.csv')\n",
    "df = df.drop(labels=\"Unnamed: 0\", axis=1)\n",
    "df = df.dropna()\n",
    "df"
   ]
  },
  {
   "cell_type": "code",
   "execution_count": 3,
   "metadata": {},
   "outputs": [
    {
     "name": "stderr",
     "output_type": "stream",
     "text": [
      "C:\\Users\\Laurence Nicholas S\\AppData\\Local\\Temp\\ipykernel_18588\\626637336.py:1: FutureWarning: pandas.value_counts is deprecated and will be removed in a future version. Use pd.Series(obj).value_counts() instead.\n",
      "  pd.value_counts(df['Label'])\n"
     ]
    },
    {
     "data": {
      "text/plain": [
       "Label\n",
       "Positif    78\n",
       "Netral     61\n",
       "Negatif     8\n",
       "Name: count, dtype: int64"
      ]
     },
     "execution_count": 3,
     "metadata": {},
     "output_type": "execute_result"
    }
   ],
   "source": [
    "pd.value_counts(df['Label'])"
   ]
  },
  {
   "cell_type": "code",
   "execution_count": 4,
   "metadata": {},
   "outputs": [
    {
     "data": {
      "image/png": "[encoded data removed]",
      "text/plain": [
       "<Figure size 640x480 with 1 Axes>"
      ]
     },
     "metadata": {},
     "output_type": "display_data"
    },
    {
     "data": {
      "image/png": "[encoded data removed]",
      "text/plain": [
       "<Figure size 640x480 with 1 Axes>"
      ]
     },
     "metadata": {},
     "output_type": "display_data"
    }
   ],
   "source": [
    "labels = ['Positive','Netral','Negatif']\n",
    "Category2 = [78,61,8]\n",
    "plt.bar(labels, Category2, tick_label=labels, width=0.5, color=['coral', 'c','yellow'])\n",
    "plt.xlabel('Kelas Sentimen')\n",
    "plt.ylabel('Data')\n",
    "plt.title('Diagram Bar')\n",
    "plt.show()\n",
    "\n",
    "#pie chart\n",
    "color = ['coral', 'c','yellow']\n",
    "plt.pie(Category2, labels=labels, colors=color,startangle=90, shadow=True, autopct='%1.2f%%', explode=(0.1, 0, 0))\n",
    "plt.title('Diagram Pie Chart')\n",
    "plt.legend()\n",
    "plt.show()"
   ]
  },
  {
   "cell_type": "code",
   "execution_count": 5,
   "metadata": {},
   "outputs": [],
   "source": [
    "# Split into train and test data\n",
    "\n",
    "train_X, test_X, train_Y, test_Y = model_selection.train_test_split(df['Steming'], df['Label'], test_size = 0.1, random_state = 1)"
   ]
  },
  {
   "cell_type": "code",
   "execution_count": 6,
   "metadata": {},
   "outputs": [],
   "source": [
    "# Membuat data frame dari hasil split\n",
    "df_train90 = pd.DataFrame()\n",
    "df_train90['Steming'] = train_X\n",
    "df_train90['Label'] = train_Y\n",
    "\n",
    "df_test10 = pd.DataFrame()\n",
    "df_test10['Steming'] = test_X\n",
    "df_test10['Label'] = test_Y"
   ]
  },
  {
   "cell_type": "code",
   "execution_count": 7,
   "metadata": {},
   "outputs": [
    {
     "data": {
      "text/html": [
       "<div>\n",
       "<style scoped>\n",
       "    .dataframe tbody tr th:only-of-type {\n",
       "        vertical-align: middle;\n",
       "    }\n",
       "\n",
       "    .dataframe tbody tr th {\n",
       "        vertical-align: top;\n",
       "    }\n",
       "\n",
       "    .dataframe thead th {\n",
       "        text-align: right;\n",
       "    }\n",
       "</style>\n",
       "<table border=\"1\" class=\"dataframe\">\n",
       "  <thead>\n",
       "    <tr style=\"text-align: right;\">\n",
       "      <th></th>\n",
       "      <th>Steming</th>\n",
       "      <th>Label</th>\n",
       "    </tr>\n",
       "  </thead>\n",
       "  <tbody>\n",
       "    <tr>\n",
       "      <th>33</th>\n",
       "      <td>publisher kakak</td>\n",
       "      <td>Netral</td>\n",
       "    </tr>\n",
       "    <tr>\n",
       "      <th>73</th>\n",
       "      <td>ajar bro</td>\n",
       "      <td>Netral</td>\n",
       "    </tr>\n",
       "    <tr>\n",
       "      <th>29</th>\n",
       "      <td>publihsher</td>\n",
       "      <td>Netral</td>\n",
       "    </tr>\n",
       "    <tr>\n",
       "      <th>66</th>\n",
       "      <td>versi web versi desktop windows macbook instal...</td>\n",
       "      <td>Netral</td>\n",
       "    </tr>\n",
       "    <tr>\n",
       "      <th>35</th>\n",
       "      <td>beli lisensi offline mana</td>\n",
       "      <td>Negatif</td>\n",
       "    </tr>\n",
       "    <tr>\n",
       "      <th>...</th>\n",
       "      <td>...</td>\n",
       "      <td>...</td>\n",
       "    </tr>\n",
       "    <tr>\n",
       "      <th>133</th>\n",
       "      <td>manfaat banget</td>\n",
       "      <td>Positif</td>\n",
       "    </tr>\n",
       "    <tr>\n",
       "      <th>137</th>\n",
       "      <td>mantap meng edukasi</td>\n",
       "      <td>Positif</td>\n",
       "    </tr>\n",
       "    <tr>\n",
       "      <th>72</th>\n",
       "      <td>game online dukung kakak windows education</td>\n",
       "      <td>Positif</td>\n",
       "    </tr>\n",
       "    <tr>\n",
       "      <th>140</th>\n",
       "      <td>nama lengkap bicara</td>\n",
       "      <td>Netral</td>\n",
       "    </tr>\n",
       "    <tr>\n",
       "      <th>37</th>\n",
       "      <td>monggo kakak haris</td>\n",
       "      <td>Positif</td>\n",
       "    </tr>\n",
       "  </tbody>\n",
       "</table>\n",
       "<p>132 rows × 2 columns</p>\n",
       "</div>"
      ],
      "text/plain": [
       "                                               Steming    Label\n",
       "33                                     publisher kakak   Netral\n",
       "73                                            ajar bro   Netral\n",
       "29                                          publihsher   Netral\n",
       "66   versi web versi desktop windows macbook instal...   Netral\n",
       "35                           beli lisensi offline mana  Negatif\n",
       "..                                                 ...      ...\n",
       "133                                     manfaat banget  Positif\n",
       "137                                mantap meng edukasi  Positif\n",
       "72          game online dukung kakak windows education  Positif\n",
       "140                                nama lengkap bicara   Netral\n",
       "37                                  monggo kakak haris  Positif\n",
       "\n",
       "[132 rows x 2 columns]"
      ]
     },
     "execution_count": 7,
     "metadata": {},
     "output_type": "execute_result"
    }
   ],
   "source": [
    "#Data frame train hasil pembagian\n",
    "df_train90"
   ]
  },
  {
   "cell_type": "code",
   "execution_count": 8,
   "metadata": {},
   "outputs": [
    {
     "data": {
      "text/html": [
       "<div>\n",
       "<style scoped>\n",
       "    .dataframe tbody tr th:only-of-type {\n",
       "        vertical-align: middle;\n",
       "    }\n",
       "\n",
       "    .dataframe tbody tr th {\n",
       "        vertical-align: top;\n",
       "    }\n",
       "\n",
       "    .dataframe thead th {\n",
       "        text-align: right;\n",
       "    }\n",
       "</style>\n",
       "<table border=\"1\" class=\"dataframe\">\n",
       "  <thead>\n",
       "    <tr style=\"text-align: right;\">\n",
       "      <th></th>\n",
       "      <th>Steming</th>\n",
       "      <th>Label</th>\n",
       "    </tr>\n",
       "  </thead>\n",
       "  <tbody>\n",
       "    <tr>\n",
       "      <th>99</th>\n",
       "      <td>terimakasih ilmunyasmga sukses sehat</td>\n",
       "      <td>Positif</td>\n",
       "    </tr>\n",
       "    <tr>\n",
       "      <th>93</th>\n",
       "      <td>keren bangettrims ilmu</td>\n",
       "      <td>Positif</td>\n",
       "    </tr>\n",
       "    <tr>\n",
       "      <th>54</th>\n",
       "      <td>simpel terimakasih</td>\n",
       "      <td>Positif</td>\n",
       "    </tr>\n",
       "    <tr>\n",
       "      <th>103</th>\n",
       "      <td>manfaat</td>\n",
       "      <td>Positif</td>\n",
       "    </tr>\n",
       "    <tr>\n",
       "      <th>98</th>\n",
       "      <td>terima kasih bu</td>\n",
       "      <td>Positif</td>\n",
       "    </tr>\n",
       "    <tr>\n",
       "      <th>75</th>\n",
       "      <td>manfaat banget terimakasih kakaaa</td>\n",
       "      <td>Positif</td>\n",
       "    </tr>\n",
       "    <tr>\n",
       "      <th>89</th>\n",
       "      <td>kakak nanyaini murid login masuk beranda suruh...</td>\n",
       "      <td>Positif</td>\n",
       "    </tr>\n",
       "    <tr>\n",
       "      <th>53</th>\n",
       "      <td>terima kasih cerah sukses kakak</td>\n",
       "      <td>Positif</td>\n",
       "    </tr>\n",
       "    <tr>\n",
       "      <th>44</th>\n",
       "      <td>terimakasih bemanfaat tutorial aetting dns gag...</td>\n",
       "      <td>Negatif</td>\n",
       "    </tr>\n",
       "    <tr>\n",
       "      <th>59</th>\n",
       "      <td>good explanation terimakasih</td>\n",
       "      <td>Positif</td>\n",
       "    </tr>\n",
       "    <tr>\n",
       "      <th>5</th>\n",
       "      <td>musik nama</td>\n",
       "      <td>Netral</td>\n",
       "    </tr>\n",
       "    <tr>\n",
       "      <th>16</th>\n",
       "      <td>guna banget orang laptop dukung download ps corel</td>\n",
       "      <td>Positif</td>\n",
       "    </tr>\n",
       "    <tr>\n",
       "      <th>91</th>\n",
       "      <td>terima kasih bantu manfaat</td>\n",
       "      <td>Positif</td>\n",
       "    </tr>\n",
       "    <tr>\n",
       "      <th>14</th>\n",
       "      <td>kakak saran ms word gabisa masukin akun gabisa...</td>\n",
       "      <td>Positif</td>\n",
       "    </tr>\n",
       "    <tr>\n",
       "      <th>58</th>\n",
       "      <td>kakak wilayah kabupatenkota</td>\n",
       "      <td>Netral</td>\n",
       "    </tr>\n",
       "  </tbody>\n",
       "</table>\n",
       "</div>"
      ],
      "text/plain": [
       "                                               Steming    Label\n",
       "99                terimakasih ilmunyasmga sukses sehat  Positif\n",
       "93                              keren bangettrims ilmu  Positif\n",
       "54                                  simpel terimakasih  Positif\n",
       "103                                            manfaat  Positif\n",
       "98                                     terima kasih bu  Positif\n",
       "75                   manfaat banget terimakasih kakaaa  Positif\n",
       "89   kakak nanyaini murid login masuk beranda suruh...  Positif\n",
       "53                     terima kasih cerah sukses kakak  Positif\n",
       "44   terimakasih bemanfaat tutorial aetting dns gag...  Negatif\n",
       "59                        good explanation terimakasih  Positif\n",
       "5                                           musik nama   Netral\n",
       "16   guna banget orang laptop dukung download ps corel  Positif\n",
       "91                          terima kasih bantu manfaat  Positif\n",
       "14   kakak saran ms word gabisa masukin akun gabisa...  Positif\n",
       "58                         kakak wilayah kabupatenkota   Netral"
      ]
     },
     "execution_count": 8,
     "metadata": {},
     "output_type": "execute_result"
    }
   ],
   "source": [
    "#Data Frame test Hasil Pembagian\n",
    "df_test10"
   ]
  },
  {
   "cell_type": "code",
   "execution_count": 10,
   "metadata": {},
   "outputs": [],
   "source": [
    "df_test10.to_csv('maribelajar-test10.csv')"
   ]
  },
  {
   "cell_type": "code",
   "execution_count": 11,
   "metadata": {},
   "outputs": [],
   "source": [
    "df_train90.to_csv('maribelajar-train90.csv')"
   ]
  },
  {
   "cell_type": "code",
   "execution_count": 14,
   "metadata": {},
   "outputs": [],
   "source": [
    "# TF-IDF\n",
    "\n",
    "from sklearn.feature_extraction.text import TfidfVectorizer\n",
    "tfidf_vect_9010 = TfidfVectorizer()\n",
    "tfidf_vect_9010.fit(df['Steming'])\n",
    "train_X_tfidf_9010 = tfidf_vect_9010.transform(df_train90['Steming'])\n",
    "test_X_tfidf_9010 = tfidf_vect_9010.transform(df_test10['Steming'])"
   ]
  },
  {
   "cell_type": "code",
   "execution_count": 16,
   "metadata": {},
   "outputs": [
    {
     "name": "stdout",
     "output_type": "stream",
     "text": [
      "  (0, 298)\t0.888112548256961\n",
      "  (0, 166)\t0.4596260454201079\n",
      "  (1, 42)\t0.8058546859867848\n",
      "  (1, 1)\t0.5921133549187524\n",
      "  (2, 297)\t1.0\n",
      "  (3, 398)\t0.5369516107353264\n",
      "  (3, 393)\t0.2852264128507268\n",
      "  (3, 388)\t0.6176701362284154\n",
      "  (3, 206)\t0.2852264128507268\n",
      "  (3, 147)\t0.2684758053676632\n",
      "  (3, 76)\t0.3088350681142077\n",
      "  (4, 261)\t0.5015882316255766\n",
      "  (4, 212)\t0.5015882316255766\n",
      "  (4, 201)\t0.5431055074147043\n",
      "  (4, 31)\t0.44928265001585604\n",
      "  (5, 350)\t0.888112548256961\n",
      "  (5, 166)\t0.4596260454201079\n",
      "  (6, 366)\t0.3608742489181004\n",
      "  (6, 166)\t0.3054642733109818\n",
      "  (6, 156)\t0.6789616636102656\n",
      "  (6, 118)\t0.5616693097775339\n",
      "  (7, 298)\t1.0\n",
      "  (8, 235)\t0.4705070631015448\n",
      "  (8, 144)\t0.5094516998929859\n",
      "  (8, 130)\t0.5094516998929859\n",
      "  :\t:\n",
      "  (125, 159)\t0.2924092109113341\n",
      "  (125, 60)\t0.2924092109113341\n",
      "  (125, 4)\t0.2924092109113341\n",
      "  (126, 337)\t0.43357545497714767\n",
      "  (126, 268)\t0.4694632023458299\n",
      "  (126, 192)\t0.4694632023458299\n",
      "  (126, 46)\t0.4694632023458299\n",
      "  (126, 31)\t0.3883622404031506\n",
      "  (127, 213)\t0.6441009930503434\n",
      "  (127, 20)\t0.7649404622266764\n",
      "  (128, 228)\t0.6476105640979997\n",
      "  (128, 215)\t0.5134732728907475\n",
      "  (128, 87)\t0.5629793560118651\n",
      "  (129, 398)\t0.4216250196810392\n",
      "  (129, 264)\t0.40122064337311303\n",
      "  (129, 166)\t0.21820414633990876\n",
      "  (129, 103)\t0.4850068016130122\n",
      "  (129, 86)\t0.44793083595392236\n",
      "  (129, 85)\t0.4216250196810392\n",
      "  (130, 248)\t0.5033124844419449\n",
      "  (130, 198)\t0.586268980625961\n",
      "  (130, 37)\t0.6347954200848281\n",
      "  (131, 239)\t0.6738310038119311\n",
      "  (131, 166)\t0.3031559938441109\n",
      "  (131, 124)\t0.6738310038119311\n"
     ]
    }
   ],
   "source": [
    "#melihat hasil pembobotan TF-IDF pada data train\n",
    "print(train_X_tfidf_9010)"
   ]
  },
  {
   "cell_type": "code",
   "execution_count": 17,
   "metadata": {},
   "outputs": [
    {
     "name": "stdout",
     "output_type": "stream",
     "text": [
      "  (0, 366)\t0.31652049402997096\n",
      "  (0, 347)\t0.49263655676524754\n",
      "  (0, 317)\t0.5499894094135904\n",
      "  (0, 139)\t0.5955129296080766\n",
      "  (1, 176)\t0.5730497522873061\n",
      "  (1, 138)\t0.48690468797608005\n",
      "  (1, 21)\t0.6591948165985324\n",
      "  (2, 366)\t0.46933359415067133\n",
      "  (2, 331)\t0.8830209382577588\n",
      "  (3, 213)\t1.0\n",
      "  (4, 365)\t0.5517028632983187\n",
      "  (4, 171)\t0.5391299850418847\n",
      "  (4, 45)\t0.6363668830613153\n",
      "  (5, 366)\t0.3394271473658104\n",
      "  (5, 213)\t0.4448337295399913\n",
      "  (5, 165)\t0.6386103229612246\n",
      "  (5, 20)\t0.5282887658298353\n",
      "  (6, 405)\t0.29605097245350387\n",
      "  (6, 348)\t0.29605097245350387\n",
      "  (6, 256)\t0.2786646666588044\n",
      "  (6, 249)\t0.29605097245350387\n",
      "  (6, 245)\t0.29605097245350387\n",
      "  (6, 220)\t0.2786646666588044\n",
      "  (6, 203)\t0.29605097245350387\n",
      "  (6, 166)\t0.28843537676857717\n",
      "  :\t:\n",
      "  (10, 246)\t0.7835853851768773\n",
      "  (11, 295)\t0.37665597430805814\n",
      "  (11, 265)\t0.3478628029086203\n",
      "  (11, 195)\t0.37665597430805814\n",
      "  (11, 117)\t0.37665597430805814\n",
      "  (11, 85)\t0.32743372268690135\n",
      "  (11, 83)\t0.32743372268690135\n",
      "  (11, 63)\t0.37665597430805814\n",
      "  (11, 20)\t0.31158769699643607\n",
      "  (12, 365)\t0.4771694651906098\n",
      "  (12, 213)\t0.5019390294205028\n",
      "  (12, 171)\t0.46629514498559527\n",
      "  (12, 24)\t0.5503956304304873\n",
      "  (13, 401)\t0.2514027302390729\n",
      "  (13, 312)\t0.5444234882841356\n",
      "  (13, 241)\t0.22518647316938473\n",
      "  (13, 221)\t0.2722117441420678\n",
      "  (13, 166)\t0.122467831495714\n",
      "  (13, 150)\t0.2722117441420678\n",
      "  (13, 108)\t0.2722117441420678\n",
      "  (13, 100)\t0.5444234882841356\n",
      "  (13, 6)\t0.23663849991300856\n",
      "  (14, 395)\t0.6738310038119311\n",
      "  (14, 166)\t0.3031559938441109\n",
      "  (14, 163)\t0.6738310038119311\n"
     ]
    }
   ],
   "source": [
    "#melihat hasil pembobotan TF-IDF pada data test\n",
    "print(test_X_tfidf_9010)"
   ]
  },
  {
   "cell_type": "code",
   "execution_count": 18,
   "metadata": {},
   "outputs": [
    {
     "name": "stdout",
     "output_type": "stream",
     "text": [
      "(132, 408)\n",
      "(15, 408)\n"
     ]
    }
   ],
   "source": [
    "print(train_X_tfidf_9010.shape)\n",
    "print(test_X_tfidf_9010.shape)"
   ]
  },
  {
   "cell_type": "code",
   "execution_count": 19,
   "metadata": {},
   "outputs": [
    {
     "name": "stdout",
     "output_type": "stream",
     "text": [
      "{'terimakasih': 366, 'nyimpan': 258, 'gamenya': 104, 'gimana': 110, 'save': 313, 'world': 402, 'bagus': 18, 'subscribe': 344, 'boss': 41, 'musik': 246, 'nama': 248, 'izin': 151, 'share': 328, 'terima': 365, 'kasih': 171, 'tambah': 354, 'ilmuterimakasihbarakallah': 140, 'keren': 176, 'ilmu': 138, 'sudan': 345, 'imu': 141, 'mantap': 215, 'bermanpaat': 35, 'mendeley': 227, 'pilih': 282, 'type': 381, 'of': 259, 'sourcenya': 338, 'mohon': 238, 'bantu': 24, 'bingung': 39, 'sendiribrpivot': 323, 'powerbrpivot': 289, 'tabelbrgrafik': 351, 'aplikasi': 12, 'database': 72, 'kakak': 166, 'saran': 312, 'ms': 241, 'word': 401, 'gabisa': 100, 'masukin': 221, 'akun': 6, 'gaptek': 108, 'iya': 150, 'template': 362, 'ambil': 9, 'google': 113, 'guna': 117, 'banget': 20, 'orang': 265, 'laptop': 195, 'dukung': 85, 'download': 83, 'ps': 295, 'corel': 63, 'senang': 322, 'pakai': 267, 'data': 71, 'searching': 315, 'rasa': 301, 'video': 390, 'tonton': 374, 'bambankk': 19, 'harga': 123, 'karya': 170, 'gambar': 102, 'poster': 287, 'makan': 210, 'khas': 179, 'coba': 61, 'contohin': 62, 'pliss': 286, 'dokumen': 82, 'klik': 183, 'kanan': 167, 'change': 57, 'picture': 280, 'masuk': 220, 'cetak': 56, 'print': 293, 'bro': 42, 'langsung': 193, 'pdf': 274, 'tutorial': 380, 'manfaat': 213, 'trima': 375, 'ksih': 190, 'sahabat': 308, 'playstore': 285, 'instal': 146, 'publihsher': 297, 'willows': 396, 'has': 125, 'great': 116, 'alam': 7, 'with': 400, 'good': 112, 'idea': 136, 'and': 10, 'think': 370, 'that': 368, 'is': 148, 'thing': 369, 'publisher': 298, 'microsoft': 231, 'guru': 118, 'fisika': 95, 'sman': 336, 'melaya': 226, 'jembranabali': 157, 'ajar': 1, 'onenote': 263, 'trimssemoga': 376, 'sehat': 317, 'bu': 45, 'rima': 303, 'bagi': 17, 'beli': 31, 'lisensi': 201, 'offline': 261, 'mana': 212, 'reupload': 302, 'min': 233, 'monggo': 239, 'haris': 124, 'kolase': 185, 'diandroid': 77, 'halo': 121, 'verifikasi': 387, 'pindah': 284, 'bapakibusiswa': 25, 'klaim': 182, 'kredit': 188, 'azure': 15, 'pengajarsiswa': 277, 'selamat': 320, 'pagi': 266, 'butapi': 50, 'khan': 178, 'bayar': 29, 'bulan': 47, 'jalan': 152, 'online': 264, 'brpertanyaan': 43, 'gratis': 115, 'permanen': 278, 'brterima': 44, 'info': 142, 'darurat': 69, 'covid': 64, 'jempol': 158, 'user': 386, 'ubah': 382, 'free': 99, 'hi': 128, 'sahabar': 307, 'ikut': 137, 'pandu': 270, 'href': 133, 'bemanfaat': 32, 'aetting': 0, 'dns': 81, 'gagal': 101, 'situ': 335, 'pika': 281, 'movie': 240, 'cepat': 54, 'pimpin': 283, 'suara': 341, 'baca': 16, 'text': 367, 'heloo': 127, 'approvel': 14, 'form': 97, 'hasil': 126, 'masalahsaya': 218, 'sistem': 333, 'flow': 96, 'email': 89, 'kirim': 181, 'mengguankan': 229, 'ganti': 107, 'sesuai': 327, 'submiter': 343, 'submit': 342, 'file': 94, 'praktik': 291, 'latih': 196, 'sample': 311, 'excel': 92, 'bangun': 23, 'visualisanya': 391, 'maribelajar': 217, 'instagramnya': 145, 'hallo': 120, 'price': 292, 'power': 288, 'biitu': 38, 'yahbrbrkalo': 404, 'kasus': 172, 'pasang': 271, 'usaha': 385, 'siapin': 329, 'dashboard': 70, 'public': 296, 'lihat': 200, 'jugabrbrmakasih': 161, 'kolom': 186, 'sales': 310, 'vs': 392, 'target': 357, 'persentase': 279, 'grafik': 114, 'bi': 36, 'cerah': 55, 'sukses': 347, 'simpel': 331, 'via': 389, 'zoom': 406, 'gmeet': 111, 'elah': 88, 'tunggu': 379, 'tampil': 355, 'zzzzz': 407, 'databasenya': 73, 'spreadsheet': 340, 'wilayah': 395, 'kabupatenkota': 163, 'explanation': 93, 'datasetnya': 74, 'praktek': 290, 'gan': 105, 'magang': 207, 'suskes': 349, 'cek': 53, 'channel': 58, 'matul': 223, 'lanjut': 194, 'running': 306, 'on': 262, 'macbook': 206, 'versi': 388, 'web': 393, 'desktop': 76, 'windows': 398, 'install': 147, 'mengimport': 230, 'latitude': 197, 'longitude': 204, 'titik': 373, 'hilang': 129, 'pbi': 273, 'mantab': 214, 'enak': 90, 'ngejelasinnya': 252, 'edukasi': 87, 'nyaman': 257, 'aktivitas': 5, 'kantor': 168, 'beda': 30, 'win': 397, 'printernya': 294, 'rumit': 305, 'game': 103, 'education': 86, 'windowsnya': 399, 'khusus': 180, 'sekolah': 319, 'kakaaa': 165, 'manual': 216, 'book': 40, 'lengkap': 198, 'massaya': 219, 'serius': 325, 'minat': 234, 'dalam': 68, 'maaf': 205, 'sedia': 316, 'taut': 358, 'siswa': 334, 'curang': 67, 'tahu': 353, 'paksudah': 268, 'buka': 46, 'kunci': 192, 'softwarenya': 337, 'sejarah': 318, 'kuis': 191, 'new': 251, 'quiz': 300, 'akses': 3, 'koq': 187, 'formnya': 98, 'muncul': 244, 'jelas': 156, 'tele': 361, 'kresek': 189, 'ganggu': 106, 'hapus': 122, 'tugas': 377, 'tulis': 378, 'diclass': 78, 'notebook': 256, 'teams': 360, 'nanyaini': 249, 'murid': 245, 'login': 203, 'beranda': 33, 'suruh': 348, 'cari': 52, 'clas': 59, 'yamohon': 405, 'salam': 309, 'moga': 237, 'sayangblm': 314, 'selesai': 321, 'buru': 49, 'berhentijd': 34, 'penasaranujungnya': 275, 'bangettrims': 21, 'sip': 332, 'materi': 222, 'ilmunyasmga': 139, 'akhir': 2, 'putus': 299, 'appreciate': 13, 'it': 149, 'initerimakasih': 143, 'bunda': 48, 'mampir': 211, 'rolla': 304, 'calendar': 51, 'icon': 135, 'tanda': 356, 'panah': 269, 'bawah': 28, 'live': 202, 'event': 91, 'sway': 350, 'nissa': 255, 'apknya': 11, 'bas': 27, 'jazakallah': 155, 'khair': 177, 'cp': 65, 'niat': 254, 'majalah': 208, 'digital': 79, 'yaampun': 403, 'ngeyoutube': 253, 'sepi': 324, 'hadir': 119, 'sukanda': 346, 'spd': 339, 'negeri': 250, 'jatiwangi': 153, 'kabupaten': 162, 'majalengka': 209, 'jawa': 154, 'barat': 26, 'bangga': 22, 'minecraft': 235, 'mod': 236, 'hmmm': 130, 'creative': 66, 'inovatif': 144, 'level': 199, 'tahap': 352, 'close': 60, 'aktivasi': 4, 'jendela': 159, 'kode': 184, 'hp': 132, 'kelas': 173, 'sesi': 326, 'weh': 394, 'multcloud': 243, 'ugm': 383, 'gb': 109, 'jih': 160, 'hubung': 134, 'dssdi': 84, 'pendek': 276, 'office': 260, 'tenant': 363, 'milik': 232, 'kapasitas': 169, 'default': 75, 'tibatiba': 371, 'meng': 228, 'mute': 247, 'unmute': 384, 'team': 359, 'host': 131, 'meeting': 225, 'mt': 242, 'kadang': 164, 'tendang': 364, 'kendala': 175, 'bicara': 37, 'alhamdulillah': 8, 'matur': 224, 'simak': 330, 'kemarin': 174, 'tinggal': 372, 'password': 272, 'dimasukin': 80}\n"
     ]
    }
   ],
   "source": [
    "# You can use the below syntax to see the vocabulary that it has learned from the corpus\n",
    "print(tfidf_vect_9010.vocabulary_)"
   ]
  },
  {
   "cell_type": "code",
   "execution_count": 20,
   "metadata": {},
   "outputs": [],
   "source": [
    "from sklearn.svm import SVC\n",
    "\n",
    "#Menerapkan pemodelan SVM pada data train\n",
    "model = SVC(kernel='linear',\n",
    "            decision_function_shape='ovr',\n",
    "           C=1.0)\n",
    "clf = model.fit(train_X_tfidf_9010,train_Y)"
   ]
  },
  {
   "cell_type": "code",
   "execution_count": 22,
   "metadata": {},
   "outputs": [
    {
     "data": {
      "image/png": "[encoded data removed]",
      "text/plain": [
       "<Figure size 640x480 with 2 Axes>"
      ]
     },
     "metadata": {},
     "output_type": "display_data"
    }
   ],
   "source": [
    "# Proses Pengujian\n",
    "predictions_SVM_9010 = clf.predict(test_X_tfidf_9010)\n",
    "\n",
    "#simpan data frame\n",
    "test_prediction_9010 = pd.DataFrame()\n",
    "test_prediction_9010['Text'] = test_X\n",
    "test_prediction_9010['Label'] = predictions_SVM_9010\n",
    "\n",
    "test_prediction_9010.to_csv('maribelajar-test_prediction_9010.csv')\n",
    "\n",
    "from sklearn.metrics import confusion_matrix\n",
    "#confusion Matrix\n",
    "\n",
    "class_label = [\"Negatif\",\"Netral\",\"Positif\"]\n",
    "df_cm = pd.DataFrame(confusion_matrix(test_Y, predictions_SVM_9010), index=class_label, columns=class_label)\n",
    "sns.heatmap(df_cm, annot=True, fmt='d')\n",
    "plt.title(\"Confusion Matrix\")\n",
    "plt.xlabel(\"Predicted Label\")\n",
    "plt.ylabel(\"True Label\")\n",
    "plt.show()"
   ]
  },
  {
   "cell_type": "code",
   "execution_count": 23,
   "metadata": {},
   "outputs": [
    {
     "name": "stdout",
     "output_type": "stream",
     "text": [
      "              precision    recall  f1-score   support\n",
      "\n",
      "     Negatif       0.00      0.00      0.00         1\n",
      "      Netral       0.67      1.00      0.80         2\n",
      "     Positif       0.92      0.92      0.92        12\n",
      "\n",
      "    accuracy                           0.87        15\n",
      "   macro avg       0.53      0.64      0.57        15\n",
      "weighted avg       0.82      0.87      0.84        15\n",
      "\n",
      "Accuracy of the model :  0.8666666666666667\n",
      "Precision of the model:  0.5277777777777778\n",
      "Recall of the model:  0.6388888888888888\n",
      "F1-score of the model:  0.5722222222222223\n"
     ]
    },
    {
     "name": "stderr",
     "output_type": "stream",
     "text": [
      "c:\\Users\\Laurence Nicholas S\\AppData\\Local\\Programs\\Python\\Python312\\Lib\\site-packages\\sklearn\\metrics\\_classification.py:1471: UndefinedMetricWarning: Precision and F-score are ill-defined and being set to 0.0 in labels with no predicted samples. Use `zero_division` parameter to control this behavior.\n",
      "  _warn_prf(average, modifier, msg_start, len(result))\n",
      "c:\\Users\\Laurence Nicholas S\\AppData\\Local\\Programs\\Python\\Python312\\Lib\\site-packages\\sklearn\\metrics\\_classification.py:1471: UndefinedMetricWarning: Precision and F-score are ill-defined and being set to 0.0 in labels with no predicted samples. Use `zero_division` parameter to control this behavior.\n",
      "  _warn_prf(average, modifier, msg_start, len(result))\n",
      "c:\\Users\\Laurence Nicholas S\\AppData\\Local\\Programs\\Python\\Python312\\Lib\\site-packages\\sklearn\\metrics\\_classification.py:1471: UndefinedMetricWarning: Precision and F-score are ill-defined and being set to 0.0 in labels with no predicted samples. Use `zero_division` parameter to control this behavior.\n",
      "  _warn_prf(average, modifier, msg_start, len(result))\n",
      "c:\\Users\\Laurence Nicholas S\\AppData\\Local\\Programs\\Python\\Python312\\Lib\\site-packages\\sklearn\\metrics\\_classification.py:1471: UndefinedMetricWarning: Precision is ill-defined and being set to 0.0 in labels with no predicted samples. Use `zero_division` parameter to control this behavior.\n",
      "  _warn_prf(average, modifier, msg_start, len(result))\n"
     ]
    }
   ],
   "source": [
    "# Accuracy, Precision, Recall, f1-score\n",
    "from sklearn.metrics import f1_score, precision_score, recall_score,accuracy_score\n",
    "from sklearn.metrics import classification_report\n",
    "\n",
    "print (classification_report(test_Y, predictions_SVM_9010))\n",
    "\n",
    "print(\"Accuracy of the model : \", accuracy_score(test_Y, predictions_SVM_9010))\n",
    "print('Precision of the model: ', precision_score(test_Y, predictions_SVM_9010, average='macro'))\n",
    "print('Recall of the model: ', recall_score(test_Y, predictions_SVM_9010, average='macro'))\n",
    "print('F1-score of the model: ', f1_score(test_Y, predictions_SVM_9010, average='macro'))"
   ]
  },
  {
   "cell_type": "code",
   "execution_count": 24,
   "metadata": {},
   "outputs": [],
   "source": [
    "from sklearn.naive_bayes import MultinomialNB\n",
    "\n",
    "clf = MultinomialNB()\n",
    "clf.fit(train_X_tfidf_9010,train_Y)\n",
    "predictions= clf.predict(test_X_tfidf_9010)"
   ]
  },
  {
   "cell_type": "code",
   "execution_count": 25,
   "metadata": {},
   "outputs": [
    {
     "data": {
      "image/png": "[encoded data removed]",
      "text/plain": [
       "<Figure size 640x480 with 2 Axes>"
      ]
     },
     "metadata": {},
     "output_type": "display_data"
    }
   ],
   "source": [
    "from sklearn.metrics import confusion_matrix\n",
    "#confusion Matrix\n",
    "\n",
    "class_label = [\"Negatif\",\"Netral\",\"Positif\"]\n",
    "df_cm = pd.DataFrame(confusion_matrix(test_Y, predictions), index=class_label, columns=class_label)\n",
    "sns.heatmap(df_cm, annot=True, fmt='d')\n",
    "plt.title(\"Confusion Matrix\")\n",
    "plt.xlabel(\"Predicted Label\")\n",
    "plt.ylabel(\"True Label\")\n",
    "plt.show()"
   ]
  },
  {
   "cell_type": "code",
   "execution_count": 26,
   "metadata": {},
   "outputs": [
    {
     "name": "stdout",
     "output_type": "stream",
     "text": [
      "              precision    recall  f1-score   support\n",
      "\n",
      "     Negatif       0.00      0.00      0.00         1\n",
      "      Netral       0.67      1.00      0.80         2\n",
      "     Positif       0.92      0.92      0.92        12\n",
      "\n",
      "    accuracy                           0.87        15\n",
      "   macro avg       0.53      0.64      0.57        15\n",
      "weighted avg       0.82      0.87      0.84        15\n",
      "\n",
      "Accuracy of the model :  0.8666666666666667\n",
      "Precision of the model:  0.5277777777777778\n",
      "Recall of the model:  0.6388888888888888\n",
      "F1-score of the model:  0.5722222222222223\n"
     ]
    },
    {
     "name": "stderr",
     "output_type": "stream",
     "text": [
      "c:\\Users\\Laurence Nicholas S\\AppData\\Local\\Programs\\Python\\Python312\\Lib\\site-packages\\sklearn\\metrics\\_classification.py:1471: UndefinedMetricWarning: Precision and F-score are ill-defined and being set to 0.0 in labels with no predicted samples. Use `zero_division` parameter to control this behavior.\n",
      "  _warn_prf(average, modifier, msg_start, len(result))\n",
      "c:\\Users\\Laurence Nicholas S\\AppData\\Local\\Programs\\Python\\Python312\\Lib\\site-packages\\sklearn\\metrics\\_classification.py:1471: UndefinedMetricWarning: Precision and F-score are ill-defined and being set to 0.0 in labels with no predicted samples. Use `zero_division` parameter to control this behavior.\n",
      "  _warn_prf(average, modifier, msg_start, len(result))\n",
      "c:\\Users\\Laurence Nicholas S\\AppData\\Local\\Programs\\Python\\Python312\\Lib\\site-packages\\sklearn\\metrics\\_classification.py:1471: UndefinedMetricWarning: Precision and F-score are ill-defined and being set to 0.0 in labels with no predicted samples. Use `zero_division` parameter to control this behavior.\n",
      "  _warn_prf(average, modifier, msg_start, len(result))\n",
      "c:\\Users\\Laurence Nicholas S\\AppData\\Local\\Programs\\Python\\Python312\\Lib\\site-packages\\sklearn\\metrics\\_classification.py:1471: UndefinedMetricWarning: Precision is ill-defined and being set to 0.0 in labels with no predicted samples. Use `zero_division` parameter to control this behavior.\n",
      "  _warn_prf(average, modifier, msg_start, len(result))\n"
     ]
    }
   ],
   "source": [
    "# Accuracy, Precision, Recall, f1-score\n",
    "from sklearn.metrics import f1_score, precision_score, recall_score,accuracy_score\n",
    "from sklearn.metrics import classification_report\n",
    "\n",
    "\n",
    "print (classification_report(test_Y, predictions))\n",
    "\n",
    "print(\"Accuracy of the model : \", accuracy_score(test_Y, predictions))\n",
    "print('Precision of the model: ', precision_score(test_Y, predictions, average='macro'))\n",
    "print('Recall of the model: ', recall_score(test_Y, predictions, average='macro'))\n",
    "print('F1-score of the model: ', f1_score(test_Y, predictions, average='macro'))"
   ]
  },
  {
   "cell_type": "code",
   "execution_count": null,
   "metadata": {},
   "outputs": [],
   "source": []
  }
 ],
 "metadata": {
  "kernelspec": {
   "display_name": "Python 3",
   "language": "python",
   "name": "python3"
  },
  "language_info": {
   "codemirror_mode": {
    "name": "ipython",
    "version": 3
   },
   "file_extension": ".py",
   "mimetype": "text/x-python",
   "name": "python",
   "nbconvert_exporter": "python",
   "pygments_lexer": "ipython3",
   "version": "3.12.0"
  }
 },
 "nbformat": 4,
 "nbformat_minor": 2
}
