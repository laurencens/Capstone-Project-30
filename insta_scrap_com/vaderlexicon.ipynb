{
 "cells": [
  {
   "cell_type": "code",
   "execution_count": 1,
   "metadata": {},
   "outputs": [],
   "source": [
    "import pandas as pd"
   ]
  },
  {
   "cell_type": "code",
   "execution_count": 2,
   "metadata": {},
   "outputs": [
    {
     "data": {
      "text/html": [
       "<div>\n",
       "<style scoped>\n",
       "    .dataframe tbody tr th:only-of-type {\n",
       "        vertical-align: middle;\n",
       "    }\n",
       "\n",
       "    .dataframe tbody tr th {\n",
       "        vertical-align: top;\n",
       "    }\n",
       "\n",
       "    .dataframe thead th {\n",
       "        text-align: right;\n",
       "    }\n",
       "</style>\n",
       "<table border=\"1\" class=\"dataframe\">\n",
       "  <thead>\n",
       "    <tr style=\"text-align: right;\">\n",
       "      <th></th>\n",
       "      <th>Unnamed: 0</th>\n",
       "      <th>Steming</th>\n",
       "      <th>Text_Inggris</th>\n",
       "    </tr>\n",
       "  </thead>\n",
       "  <tbody>\n",
       "    <tr>\n",
       "      <th>0</th>\n",
       "      <td>0</td>\n",
       "      <td>selamat</td>\n",
       "      <td>Happy</td>\n",
       "    </tr>\n",
       "    <tr>\n",
       "      <th>1</th>\n",
       "      <td>1</td>\n",
       "      <td>kakak maribelajar uang saku</td>\n",
       "      <td>Brother, let's learn pocket money</td>\n",
       "    </tr>\n",
       "    <tr>\n",
       "      <th>2</th>\n",
       "      <td>2</td>\n",
       "      <td>tolong tag kakak</td>\n",
       "      <td>please tag brother</td>\n",
       "    </tr>\n",
       "    <tr>\n",
       "      <th>3</th>\n",
       "      <td>3</td>\n",
       "      <td>kakmaaf kakak</td>\n",
       "      <td>I'm sorry brother</td>\n",
       "    </tr>\n",
       "    <tr>\n",
       "      <th>4</th>\n",
       "      <td>4</td>\n",
       "      <td>selamat malam kakak mohon maaf ganggu buka lin...</td>\n",
       "      <td>Good evening, bro, sorry for disturbing you, o...</td>\n",
       "    </tr>\n",
       "    <tr>\n",
       "      <th>...</th>\n",
       "      <td>...</td>\n",
       "      <td>...</td>\n",
       "      <td>...</td>\n",
       "    </tr>\n",
       "    <tr>\n",
       "      <th>412</th>\n",
       "      <td>412</td>\n",
       "      <td>siaap kakak</td>\n",
       "      <td>ready brother</td>\n",
       "    </tr>\n",
       "    <tr>\n",
       "      <th>413</th>\n",
       "      <td>413</td>\n",
       "      <td>min ajar hari jam jam</td>\n",
       "      <td>min teach day hour hour hour</td>\n",
       "    </tr>\n",
       "    <tr>\n",
       "      <th>414</th>\n",
       "      <td>414</td>\n",
       "      <td>umum kakak</td>\n",
       "      <td>general brother</td>\n",
       "    </tr>\n",
       "    <tr>\n",
       "      <th>415</th>\n",
       "      <td>415</td>\n",
       "      <td>min langsung apply test</td>\n",
       "      <td>Min, apply directly for the test</td>\n",
       "    </tr>\n",
       "    <tr>\n",
       "      <th>416</th>\n",
       "      <td>416</td>\n",
       "      <td>selamat malam kakak mohon maaf ganggu buka lin...</td>\n",
       "      <td>Good evening, bro, sorry for disturbing you, o...</td>\n",
       "    </tr>\n",
       "  </tbody>\n",
       "</table>\n",
       "<p>417 rows × 3 columns</p>\n",
       "</div>"
      ],
      "text/plain": [
       "     Unnamed: 0                                            Steming  \\\n",
       "0             0                                            selamat   \n",
       "1             1                        kakak maribelajar uang saku   \n",
       "2             2                                   tolong tag kakak   \n",
       "3             3                                      kakmaaf kakak   \n",
       "4             4  selamat malam kakak mohon maaf ganggu buka lin...   \n",
       "..          ...                                                ...   \n",
       "412         412                                        siaap kakak   \n",
       "413         413                              min ajar hari jam jam   \n",
       "414         414                                         umum kakak   \n",
       "415         415                            min langsung apply test   \n",
       "416         416  selamat malam kakak mohon maaf ganggu buka lin...   \n",
       "\n",
       "                                          Text_Inggris  \n",
       "0                                                Happy  \n",
       "1                    Brother, let's learn pocket money  \n",
       "2                                   please tag brother  \n",
       "3                                    I'm sorry brother  \n",
       "4    Good evening, bro, sorry for disturbing you, o...  \n",
       "..                                                 ...  \n",
       "412                                      ready brother  \n",
       "413                       min teach day hour hour hour  \n",
       "414                                    general brother  \n",
       "415                   Min, apply directly for the test  \n",
       "416  Good evening, bro, sorry for disturbing you, o...  \n",
       "\n",
       "[417 rows x 3 columns]"
      ]
     },
     "execution_count": 2,
     "metadata": {},
     "output_type": "execute_result"
    }
   ],
   "source": [
    "df = pd.read_csv(\"instagram-translate.csv\")\n",
    "df"
   ]
  },
  {
   "cell_type": "code",
   "execution_count": 3,
   "metadata": {},
   "outputs": [],
   "source": [
    "df = df.drop(labels=\"Unnamed: 0\", axis=1)"
   ]
  },
  {
   "cell_type": "code",
   "execution_count": 4,
   "metadata": {},
   "outputs": [
    {
     "data": {
      "text/plain": [
       "Index(['Steming', 'Text_Inggris'], dtype='object')"
      ]
     },
     "execution_count": 4,
     "metadata": {},
     "output_type": "execute_result"
    }
   ],
   "source": [
    "df.columns"
   ]
  },
  {
   "cell_type": "code",
   "execution_count": 5,
   "metadata": {},
   "outputs": [
    {
     "name": "stderr",
     "output_type": "stream",
     "text": [
      "[nltk_data] Downloading package vader_lexicon to C:\\Users\\Laurence\n",
      "[nltk_data]     Nicholas S\\AppData\\Roaming\\nltk_data...\n",
      "[nltk_data]   Package vader_lexicon is already up-to-date!\n"
     ]
    },
    {
     "data": {
      "text/plain": [
       "True"
      ]
     },
     "execution_count": 5,
     "metadata": {},
     "output_type": "execute_result"
    }
   ],
   "source": [
    "import nltk\n",
    "from nltk.sentiment.vader import SentimentIntensityAnalyzer\n",
    "nltk.download(\"vader_lexicon\")"
   ]
  },
  {
   "cell_type": "code",
   "execution_count": 6,
   "metadata": {},
   "outputs": [
    {
     "data": {
      "text/html": [
       "<div>\n",
       "<style scoped>\n",
       "    .dataframe tbody tr th:only-of-type {\n",
       "        vertical-align: middle;\n",
       "    }\n",
       "\n",
       "    .dataframe tbody tr th {\n",
       "        vertical-align: top;\n",
       "    }\n",
       "\n",
       "    .dataframe thead th {\n",
       "        text-align: right;\n",
       "    }\n",
       "</style>\n",
       "<table border=\"1\" class=\"dataframe\">\n",
       "  <thead>\n",
       "    <tr style=\"text-align: right;\">\n",
       "      <th></th>\n",
       "      <th>Steming</th>\n",
       "      <th>Text_Inggris</th>\n",
       "      <th>Compound</th>\n",
       "    </tr>\n",
       "  </thead>\n",
       "  <tbody>\n",
       "    <tr>\n",
       "      <th>0</th>\n",
       "      <td>selamat</td>\n",
       "      <td>Happy</td>\n",
       "      <td>0.5719</td>\n",
       "    </tr>\n",
       "    <tr>\n",
       "      <th>1</th>\n",
       "      <td>kakak maribelajar uang saku</td>\n",
       "      <td>Brother, let's learn pocket money</td>\n",
       "      <td>0.0000</td>\n",
       "    </tr>\n",
       "    <tr>\n",
       "      <th>2</th>\n",
       "      <td>tolong tag kakak</td>\n",
       "      <td>please tag brother</td>\n",
       "      <td>0.3182</td>\n",
       "    </tr>\n",
       "    <tr>\n",
       "      <th>3</th>\n",
       "      <td>kakmaaf kakak</td>\n",
       "      <td>I'm sorry brother</td>\n",
       "      <td>-0.0772</td>\n",
       "    </tr>\n",
       "    <tr>\n",
       "      <th>4</th>\n",
       "      <td>selamat malam kakak mohon maaf ganggu buka lin...</td>\n",
       "      <td>Good evening, bro, sorry for disturbing you, o...</td>\n",
       "      <td>0.6369</td>\n",
       "    </tr>\n",
       "  </tbody>\n",
       "</table>\n",
       "</div>"
      ],
      "text/plain": [
       "                                             Steming  \\\n",
       "0                                            selamat   \n",
       "1                        kakak maribelajar uang saku   \n",
       "2                                   tolong tag kakak   \n",
       "3                                      kakmaaf kakak   \n",
       "4  selamat malam kakak mohon maaf ganggu buka lin...   \n",
       "\n",
       "                                        Text_Inggris  Compound  \n",
       "0                                              Happy    0.5719  \n",
       "1                  Brother, let's learn pocket money    0.0000  \n",
       "2                                 please tag brother    0.3182  \n",
       "3                                  I'm sorry brother   -0.0772  \n",
       "4  Good evening, bro, sorry for disturbing you, o...    0.6369  "
      ]
     },
     "execution_count": 6,
     "metadata": {},
     "output_type": "execute_result"
    }
   ],
   "source": [
    "sentiment = SentimentIntensityAnalyzer()\n",
    "df[\"Compound\"] = [sentiment.polarity_scores(i)[\"compound\"] for i in df[\"Text_Inggris\"]]\n",
    "df.head()"
   ]
  },
  {
   "cell_type": "code",
   "execution_count": 7,
   "metadata": {},
   "outputs": [
    {
     "data": {
      "text/html": [
       "<div>\n",
       "<style scoped>\n",
       "    .dataframe tbody tr th:only-of-type {\n",
       "        vertical-align: middle;\n",
       "    }\n",
       "\n",
       "    .dataframe tbody tr th {\n",
       "        vertical-align: top;\n",
       "    }\n",
       "\n",
       "    .dataframe thead th {\n",
       "        text-align: right;\n",
       "    }\n",
       "</style>\n",
       "<table border=\"1\" class=\"dataframe\">\n",
       "  <thead>\n",
       "    <tr style=\"text-align: right;\">\n",
       "      <th></th>\n",
       "      <th>Steming</th>\n",
       "      <th>Text_Inggris</th>\n",
       "      <th>Compound</th>\n",
       "      <th>Label</th>\n",
       "    </tr>\n",
       "  </thead>\n",
       "  <tbody>\n",
       "    <tr>\n",
       "      <th>0</th>\n",
       "      <td>selamat</td>\n",
       "      <td>Happy</td>\n",
       "      <td>0.5719</td>\n",
       "      <td>Positif</td>\n",
       "    </tr>\n",
       "    <tr>\n",
       "      <th>1</th>\n",
       "      <td>kakak maribelajar uang saku</td>\n",
       "      <td>Brother, let's learn pocket money</td>\n",
       "      <td>0.0000</td>\n",
       "      <td>Netral</td>\n",
       "    </tr>\n",
       "    <tr>\n",
       "      <th>2</th>\n",
       "      <td>tolong tag kakak</td>\n",
       "      <td>please tag brother</td>\n",
       "      <td>0.3182</td>\n",
       "      <td>Positif</td>\n",
       "    </tr>\n",
       "    <tr>\n",
       "      <th>3</th>\n",
       "      <td>kakmaaf kakak</td>\n",
       "      <td>I'm sorry brother</td>\n",
       "      <td>-0.0772</td>\n",
       "      <td>Negatif</td>\n",
       "    </tr>\n",
       "    <tr>\n",
       "      <th>4</th>\n",
       "      <td>selamat malam kakak mohon maaf ganggu buka lin...</td>\n",
       "      <td>Good evening, bro, sorry for disturbing you, o...</td>\n",
       "      <td>0.6369</td>\n",
       "      <td>Positif</td>\n",
       "    </tr>\n",
       "    <tr>\n",
       "      <th>...</th>\n",
       "      <td>...</td>\n",
       "      <td>...</td>\n",
       "      <td>...</td>\n",
       "      <td>...</td>\n",
       "    </tr>\n",
       "    <tr>\n",
       "      <th>95</th>\n",
       "      <td>kakak lulus berkas spjtm kelulus pengaruh</td>\n",
       "      <td>Brother passed the SPJTM file and passed the i...</td>\n",
       "      <td>0.0000</td>\n",
       "      <td>Netral</td>\n",
       "    </tr>\n",
       "    <tr>\n",
       "      <th>96</th>\n",
       "      <td>oohhh min</td>\n",
       "      <td>oohhh min</td>\n",
       "      <td>0.0000</td>\n",
       "      <td>Netral</td>\n",
       "    </tr>\n",
       "    <tr>\n",
       "      <th>97</th>\n",
       "      <td>hi dear daftar buka daftar beberapa jalur ajar...</td>\n",
       "      <td>hi dear, register, open the list of several te...</td>\n",
       "      <td>0.3818</td>\n",
       "      <td>Positif</td>\n",
       "    </tr>\n",
       "    <tr>\n",
       "      <th>98</th>\n",
       "      <td>hi dear berkas sesuai syarat tentu</td>\n",
       "      <td>hi dear, the file meets the requirements of co...</td>\n",
       "      <td>0.3818</td>\n",
       "      <td>Positif</td>\n",
       "    </tr>\n",
       "    <tr>\n",
       "      <th>99</th>\n",
       "      <td>min maksud proses seleksi mahasiswa platform p...</td>\n",
       "      <td>Min, what is meant by the diversity survey sel...</td>\n",
       "      <td>0.0000</td>\n",
       "      <td>Netral</td>\n",
       "    </tr>\n",
       "  </tbody>\n",
       "</table>\n",
       "<p>100 rows × 4 columns</p>\n",
       "</div>"
      ],
      "text/plain": [
       "                                              Steming  \\\n",
       "0                                             selamat   \n",
       "1                         kakak maribelajar uang saku   \n",
       "2                                    tolong tag kakak   \n",
       "3                                       kakmaaf kakak   \n",
       "4   selamat malam kakak mohon maaf ganggu buka lin...   \n",
       "..                                                ...   \n",
       "95          kakak lulus berkas spjtm kelulus pengaruh   \n",
       "96                                          oohhh min   \n",
       "97  hi dear daftar buka daftar beberapa jalur ajar...   \n",
       "98                 hi dear berkas sesuai syarat tentu   \n",
       "99  min maksud proses seleksi mahasiswa platform p...   \n",
       "\n",
       "                                         Text_Inggris  Compound    Label  \n",
       "0                                               Happy    0.5719  Positif  \n",
       "1                   Brother, let's learn pocket money    0.0000   Netral  \n",
       "2                                  please tag brother    0.3182  Positif  \n",
       "3                                   I'm sorry brother   -0.0772  Negatif  \n",
       "4   Good evening, bro, sorry for disturbing you, o...    0.6369  Positif  \n",
       "..                                                ...       ...      ...  \n",
       "95  Brother passed the SPJTM file and passed the i...    0.0000   Netral  \n",
       "96                                          oohhh min    0.0000   Netral  \n",
       "97  hi dear, register, open the list of several te...    0.3818  Positif  \n",
       "98  hi dear, the file meets the requirements of co...    0.3818  Positif  \n",
       "99  Min, what is meant by the diversity survey sel...    0.0000   Netral  \n",
       "\n",
       "[100 rows x 4 columns]"
      ]
     },
     "execution_count": 7,
     "metadata": {},
     "output_type": "execute_result"
    }
   ],
   "source": [
    "score = df[\"Compound\"].values\n",
    "sentiment = []\n",
    "for i in score:\n",
    "    if i >= 0.05:\n",
    "        sentiment.append(\"Positif\")\n",
    "    elif i <= -0.05:\n",
    "        sentiment.append(\"Negatif\")\n",
    "    else:\n",
    "        sentiment.append(\"Netral\")\n",
    "df[\"Label\"] = sentiment\n",
    "df.head(100)"
   ]
  },
  {
   "cell_type": "code",
   "execution_count": 8,
   "metadata": {},
   "outputs": [
    {
     "data": {
      "text/html": [
       "<div>\n",
       "<style scoped>\n",
       "    .dataframe tbody tr th:only-of-type {\n",
       "        vertical-align: middle;\n",
       "    }\n",
       "\n",
       "    .dataframe tbody tr th {\n",
       "        vertical-align: top;\n",
       "    }\n",
       "\n",
       "    .dataframe thead th {\n",
       "        text-align: right;\n",
       "    }\n",
       "</style>\n",
       "<table border=\"1\" class=\"dataframe\">\n",
       "  <thead>\n",
       "    <tr style=\"text-align: right;\">\n",
       "      <th></th>\n",
       "      <th>Steming</th>\n",
       "      <th>Label</th>\n",
       "    </tr>\n",
       "  </thead>\n",
       "  <tbody>\n",
       "    <tr>\n",
       "      <th>0</th>\n",
       "      <td>selamat</td>\n",
       "      <td>Positif</td>\n",
       "    </tr>\n",
       "    <tr>\n",
       "      <th>1</th>\n",
       "      <td>kakak maribelajar uang saku</td>\n",
       "      <td>Netral</td>\n",
       "    </tr>\n",
       "    <tr>\n",
       "      <th>2</th>\n",
       "      <td>tolong tag kakak</td>\n",
       "      <td>Positif</td>\n",
       "    </tr>\n",
       "    <tr>\n",
       "      <th>3</th>\n",
       "      <td>kakmaaf kakak</td>\n",
       "      <td>Negatif</td>\n",
       "    </tr>\n",
       "    <tr>\n",
       "      <th>4</th>\n",
       "      <td>selamat malam kakak mohon maaf ganggu buka lin...</td>\n",
       "      <td>Positif</td>\n",
       "    </tr>\n",
       "    <tr>\n",
       "      <th>...</th>\n",
       "      <td>...</td>\n",
       "      <td>...</td>\n",
       "    </tr>\n",
       "    <tr>\n",
       "      <th>412</th>\n",
       "      <td>siaap kakak</td>\n",
       "      <td>Positif</td>\n",
       "    </tr>\n",
       "    <tr>\n",
       "      <th>413</th>\n",
       "      <td>min ajar hari jam jam</td>\n",
       "      <td>Netral</td>\n",
       "    </tr>\n",
       "    <tr>\n",
       "      <th>414</th>\n",
       "      <td>umum kakak</td>\n",
       "      <td>Netral</td>\n",
       "    </tr>\n",
       "    <tr>\n",
       "      <th>415</th>\n",
       "      <td>min langsung apply test</td>\n",
       "      <td>Netral</td>\n",
       "    </tr>\n",
       "    <tr>\n",
       "      <th>416</th>\n",
       "      <td>selamat malam kakak mohon maaf ganggu buka lin...</td>\n",
       "      <td>Positif</td>\n",
       "    </tr>\n",
       "  </tbody>\n",
       "</table>\n",
       "<p>417 rows × 2 columns</p>\n",
       "</div>"
      ],
      "text/plain": [
       "                                               Steming    Label\n",
       "0                                              selamat  Positif\n",
       "1                          kakak maribelajar uang saku   Netral\n",
       "2                                     tolong tag kakak  Positif\n",
       "3                                        kakmaaf kakak  Negatif\n",
       "4    selamat malam kakak mohon maaf ganggu buka lin...  Positif\n",
       "..                                                 ...      ...\n",
       "412                                        siaap kakak  Positif\n",
       "413                              min ajar hari jam jam   Netral\n",
       "414                                         umum kakak   Netral\n",
       "415                            min langsung apply test   Netral\n",
       "416  selamat malam kakak mohon maaf ganggu buka lin...  Positif\n",
       "\n",
       "[417 rows x 2 columns]"
      ]
     },
     "execution_count": 8,
     "metadata": {},
     "output_type": "execute_result"
    }
   ],
   "source": [
    "df[['Steming','Label']]"
   ]
  },
  {
   "cell_type": "code",
   "execution_count": 9,
   "metadata": {},
   "outputs": [
    {
     "name": "stderr",
     "output_type": "stream",
     "text": [
      "C:\\Users\\Laurence Nicholas S\\AppData\\Local\\Temp\\ipykernel_7756\\626637336.py:1: FutureWarning: pandas.value_counts is deprecated and will be removed in a future version. Use pd.Series(obj).value_counts() instead.\n",
      "  pd.value_counts(df['Label'])\n"
     ]
    },
    {
     "data": {
      "text/plain": [
       "Label\n",
       "Netral     229\n",
       "Positif    164\n",
       "Negatif     24\n",
       "Name: count, dtype: int64"
      ]
     },
     "execution_count": 9,
     "metadata": {},
     "output_type": "execute_result"
    }
   ],
   "source": [
    "pd.value_counts(df['Label'])"
   ]
  },
  {
   "cell_type": "code",
   "execution_count": 10,
   "metadata": {},
   "outputs": [
    {
     "data": {
      "image/png": "[encoded data removed]",
      "text/plain": [
       "<Figure size 640x480 with 1 Axes>"
      ]
     },
     "metadata": {},
     "output_type": "display_data"
    }
   ],
   "source": [
    "import matplotlib.pyplot as plt\n",
    "import seaborn as sns; sns.set(font_scale=1.2)\n",
    "#pie chart\n",
    "labels = ['Positif','Netral','Negatif']\n",
    "Category2 = [229,164,24]\n",
    "color = ['coral', 'c','yellow']\n",
    "plt.pie(Category2, labels=labels, colors=color,startangle=90, shadow=True, autopct='%1.2f%%', explode=(0.1, 0, 0))\n",
    "plt.title('Diagram Pie Chart')\n",
    "plt.legend()\n",
    "plt.show()"
   ]
  },
  {
   "cell_type": "code",
   "execution_count": 11,
   "metadata": {},
   "outputs": [],
   "source": [
    "keep_col = ['Steming','Label']\n",
    "new_df = df[keep_col]\n",
    "new_df.to_csv(\"instagramcom-labeling.csv\")"
   ]
  },
  {
   "cell_type": "code",
   "execution_count": null,
   "metadata": {},
   "outputs": [],
   "source": []
  }
 ],
 "metadata": {
  "kernelspec": {
   "display_name": "Python 3",
   "language": "python",
   "name": "python3"
  },
  "language_info": {
   "codemirror_mode": {
    "name": "ipython",
    "version": 3
   },
   "file_extension": ".py",
   "mimetype": "text/x-python",
   "name": "python",
   "nbconvert_exporter": "python",
   "pygments_lexer": "ipython3",
   "version": "3.12.0"
  }
 },
 "nbformat": 4,
 "nbformat_minor": 2
}
