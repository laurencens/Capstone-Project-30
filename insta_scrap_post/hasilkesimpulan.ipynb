{
 "cells": [
  {
   "cell_type": "code",
   "execution_count": 1,
   "metadata": {},
   "outputs": [],
   "source": [
    "import pandas as pd"
   ]
  },
  {
   "cell_type": "code",
   "execution_count": 3,
   "metadata": {},
   "outputs": [
    {
     "data": {
      "text/html": [
       "<div>\n",
       "<style scoped>\n",
       "    .dataframe tbody tr th:only-of-type {\n",
       "        vertical-align: middle;\n",
       "    }\n",
       "\n",
       "    .dataframe tbody tr th {\n",
       "        vertical-align: top;\n",
       "    }\n",
       "\n",
       "    .dataframe thead th {\n",
       "        text-align: right;\n",
       "    }\n",
       "</style>\n",
       "<table border=\"1\" class=\"dataframe\">\n",
       "  <thead>\n",
       "    <tr style=\"text-align: right;\">\n",
       "      <th></th>\n",
       "      <th>Bobot</th>\n",
       "      <th>Accuracy</th>\n",
       "      <th>Metode</th>\n",
       "      <th>Accuracy.1</th>\n",
       "      <th>Metode.1</th>\n",
       "    </tr>\n",
       "  </thead>\n",
       "  <tbody>\n",
       "    <tr>\n",
       "      <th>0</th>\n",
       "      <td>9010</td>\n",
       "      <td>95</td>\n",
       "      <td>SVM</td>\n",
       "      <td>95</td>\n",
       "      <td>NBC</td>\n",
       "    </tr>\n",
       "    <tr>\n",
       "      <th>1</th>\n",
       "      <td>8020</td>\n",
       "      <td>89</td>\n",
       "      <td>SVM</td>\n",
       "      <td>89</td>\n",
       "      <td>NBC</td>\n",
       "    </tr>\n",
       "    <tr>\n",
       "      <th>2</th>\n",
       "      <td>7030</td>\n",
       "      <td>87</td>\n",
       "      <td>SVM</td>\n",
       "      <td>87</td>\n",
       "      <td>NBC</td>\n",
       "    </tr>\n",
       "    <tr>\n",
       "      <th>3</th>\n",
       "      <td>6040</td>\n",
       "      <td>86</td>\n",
       "      <td>SVM</td>\n",
       "      <td>86</td>\n",
       "      <td>NBC</td>\n",
       "    </tr>\n",
       "    <tr>\n",
       "      <th>4</th>\n",
       "      <td>5050</td>\n",
       "      <td>88</td>\n",
       "      <td>SVM</td>\n",
       "      <td>88</td>\n",
       "      <td>NBC</td>\n",
       "    </tr>\n",
       "  </tbody>\n",
       "</table>\n",
       "</div>"
      ],
      "text/plain": [
       "   Bobot  Accuracy Metode  Accuracy.1 Metode.1\n",
       "0   9010        95    SVM          95      NBC\n",
       "1   8020        89    SVM          89      NBC\n",
       "2   7030        87    SVM          87      NBC\n",
       "3   6040        86    SVM          86      NBC\n",
       "4   5050        88    SVM          88      NBC"
      ]
     },
     "execution_count": 3,
     "metadata": {},
     "output_type": "execute_result"
    }
   ],
   "source": [
    "df = pd.read_excel('kesimpulan.xlsx')\n",
    "\n",
    "df"
   ]
  },
  {
   "cell_type": "code",
   "execution_count": 5,
   "metadata": {},
   "outputs": [
    {
     "name": "stdout",
     "output_type": "stream",
     "text": [
      "Hasil terbaik dari penggunaan metode SVM dan NBC pada Analisis Sentimen Sosial Media Mention Instagram MariBelajar ialah saat melakukan pembagian bobot sebesar 90% untuk data train dan 10%  untuk data test\n"
     ]
    }
   ],
   "source": [
    "print(\"Hasil terbaik dari penggunaan metode SVM dan NBC pada Analisis Sentimen Sosial Media Mention Instagram MariBelajar ialah saat melakukan pembagian bobot sebesar 90% untuk data train dan 10%  untuk data test\")"
   ]
  },
  {
   "cell_type": "code",
   "execution_count": null,
   "metadata": {},
   "outputs": [],
   "source": []
  }
 ],
 "metadata": {
  "kernelspec": {
   "display_name": "Python 3",
   "language": "python",
   "name": "python3"
  },
  "language_info": {
   "codemirror_mode": {
    "name": "ipython",
    "version": 3
   },
   "file_extension": ".py",
   "mimetype": "text/x-python",
   "name": "python",
   "nbconvert_exporter": "python",
   "pygments_lexer": "ipython3",
   "version": "3.12.0"
  }
 },
 "nbformat": 4,
 "nbformat_minor": 2
}
