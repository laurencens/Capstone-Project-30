{
 "cells": [
  {
   "cell_type": "code",
   "execution_count": 1,
   "metadata": {},
   "outputs": [],
   "source": [
    "import glob\n",
    "import pandas as pd"
   ]
  },
  {
   "cell_type": "code",
   "execution_count": 3,
   "metadata": {},
   "outputs": [
    {
     "data": {
      "text/plain": [
       "['C:\\\\Users\\\\Laurence Nicholas S\\\\OneDrive\\\\Documents\\\\KULIAH S1 SISTEM INFORMASI\\\\Kampus Merdeka\\\\MSIB\\\\MariBelajar\\\\Capstone Project\\\\get_data\\\\yt_com\\\\data01.csv',\n",
       " 'C:\\\\Users\\\\Laurence Nicholas S\\\\OneDrive\\\\Documents\\\\KULIAH S1 SISTEM INFORMASI\\\\Kampus Merdeka\\\\MSIB\\\\MariBelajar\\\\Capstone Project\\\\get_data\\\\yt_com\\\\data02.csv',\n",
       " 'C:\\\\Users\\\\Laurence Nicholas S\\\\OneDrive\\\\Documents\\\\KULIAH S1 SISTEM INFORMASI\\\\Kampus Merdeka\\\\MSIB\\\\MariBelajar\\\\Capstone Project\\\\get_data\\\\yt_com\\\\data03.csv',\n",
       " 'C:\\\\Users\\\\Laurence Nicholas S\\\\OneDrive\\\\Documents\\\\KULIAH S1 SISTEM INFORMASI\\\\Kampus Merdeka\\\\MSIB\\\\MariBelajar\\\\Capstone Project\\\\get_data\\\\yt_com\\\\data04.csv',\n",
       " 'C:\\\\Users\\\\Laurence Nicholas S\\\\OneDrive\\\\Documents\\\\KULIAH S1 SISTEM INFORMASI\\\\Kampus Merdeka\\\\MSIB\\\\MariBelajar\\\\Capstone Project\\\\get_data\\\\yt_com\\\\data05.csv',\n",
       " 'C:\\\\Users\\\\Laurence Nicholas S\\\\OneDrive\\\\Documents\\\\KULIAH S1 SISTEM INFORMASI\\\\Kampus Merdeka\\\\MSIB\\\\MariBelajar\\\\Capstone Project\\\\get_data\\\\yt_com\\\\data06.csv',\n",
       " 'C:\\\\Users\\\\Laurence Nicholas S\\\\OneDrive\\\\Documents\\\\KULIAH S1 SISTEM INFORMASI\\\\Kampus Merdeka\\\\MSIB\\\\MariBelajar\\\\Capstone Project\\\\get_data\\\\yt_com\\\\data07.csv',\n",
       " 'C:\\\\Users\\\\Laurence Nicholas S\\\\OneDrive\\\\Documents\\\\KULIAH S1 SISTEM INFORMASI\\\\Kampus Merdeka\\\\MSIB\\\\MariBelajar\\\\Capstone Project\\\\get_data\\\\yt_com\\\\data08.csv',\n",
       " 'C:\\\\Users\\\\Laurence Nicholas S\\\\OneDrive\\\\Documents\\\\KULIAH S1 SISTEM INFORMASI\\\\Kampus Merdeka\\\\MSIB\\\\MariBelajar\\\\Capstone Project\\\\get_data\\\\yt_com\\\\data09.csv',\n",
       " 'C:\\\\Users\\\\Laurence Nicholas S\\\\OneDrive\\\\Documents\\\\KULIAH S1 SISTEM INFORMASI\\\\Kampus Merdeka\\\\MSIB\\\\MariBelajar\\\\Capstone Project\\\\get_data\\\\yt_com\\\\data10.csv',\n",
       " 'C:\\\\Users\\\\Laurence Nicholas S\\\\OneDrive\\\\Documents\\\\KULIAH S1 SISTEM INFORMASI\\\\Kampus Merdeka\\\\MSIB\\\\MariBelajar\\\\Capstone Project\\\\get_data\\\\yt_com\\\\data11.csv',\n",
       " 'C:\\\\Users\\\\Laurence Nicholas S\\\\OneDrive\\\\Documents\\\\KULIAH S1 SISTEM INFORMASI\\\\Kampus Merdeka\\\\MSIB\\\\MariBelajar\\\\Capstone Project\\\\get_data\\\\yt_com\\\\data12.csv',\n",
       " 'C:\\\\Users\\\\Laurence Nicholas S\\\\OneDrive\\\\Documents\\\\KULIAH S1 SISTEM INFORMASI\\\\Kampus Merdeka\\\\MSIB\\\\MariBelajar\\\\Capstone Project\\\\get_data\\\\yt_com\\\\data13.csv',\n",
       " 'C:\\\\Users\\\\Laurence Nicholas S\\\\OneDrive\\\\Documents\\\\KULIAH S1 SISTEM INFORMASI\\\\Kampus Merdeka\\\\MSIB\\\\MariBelajar\\\\Capstone Project\\\\get_data\\\\yt_com\\\\data14.csv',\n",
       " 'C:\\\\Users\\\\Laurence Nicholas S\\\\OneDrive\\\\Documents\\\\KULIAH S1 SISTEM INFORMASI\\\\Kampus Merdeka\\\\MSIB\\\\MariBelajar\\\\Capstone Project\\\\get_data\\\\yt_com\\\\data15.csv',\n",
       " 'C:\\\\Users\\\\Laurence Nicholas S\\\\OneDrive\\\\Documents\\\\KULIAH S1 SISTEM INFORMASI\\\\Kampus Merdeka\\\\MSIB\\\\MariBelajar\\\\Capstone Project\\\\get_data\\\\yt_com\\\\data16.csv',\n",
       " 'C:\\\\Users\\\\Laurence Nicholas S\\\\OneDrive\\\\Documents\\\\KULIAH S1 SISTEM INFORMASI\\\\Kampus Merdeka\\\\MSIB\\\\MariBelajar\\\\Capstone Project\\\\get_data\\\\yt_com\\\\data17.csv',\n",
       " 'C:\\\\Users\\\\Laurence Nicholas S\\\\OneDrive\\\\Documents\\\\KULIAH S1 SISTEM INFORMASI\\\\Kampus Merdeka\\\\MSIB\\\\MariBelajar\\\\Capstone Project\\\\get_data\\\\yt_com\\\\data18.csv',\n",
       " 'C:\\\\Users\\\\Laurence Nicholas S\\\\OneDrive\\\\Documents\\\\KULIAH S1 SISTEM INFORMASI\\\\Kampus Merdeka\\\\MSIB\\\\MariBelajar\\\\Capstone Project\\\\get_data\\\\yt_com\\\\data19.csv',\n",
       " 'C:\\\\Users\\\\Laurence Nicholas S\\\\OneDrive\\\\Documents\\\\KULIAH S1 SISTEM INFORMASI\\\\Kampus Merdeka\\\\MSIB\\\\MariBelajar\\\\Capstone Project\\\\get_data\\\\yt_com\\\\data20.csv',\n",
       " 'C:\\\\Users\\\\Laurence Nicholas S\\\\OneDrive\\\\Documents\\\\KULIAH S1 SISTEM INFORMASI\\\\Kampus Merdeka\\\\MSIB\\\\MariBelajar\\\\Capstone Project\\\\get_data\\\\yt_com\\\\data21.csv',\n",
       " 'C:\\\\Users\\\\Laurence Nicholas S\\\\OneDrive\\\\Documents\\\\KULIAH S1 SISTEM INFORMASI\\\\Kampus Merdeka\\\\MSIB\\\\MariBelajar\\\\Capstone Project\\\\get_data\\\\yt_com\\\\data22.csv',\n",
       " 'C:\\\\Users\\\\Laurence Nicholas S\\\\OneDrive\\\\Documents\\\\KULIAH S1 SISTEM INFORMASI\\\\Kampus Merdeka\\\\MSIB\\\\MariBelajar\\\\Capstone Project\\\\get_data\\\\yt_com\\\\data23.csv',\n",
       " 'C:\\\\Users\\\\Laurence Nicholas S\\\\OneDrive\\\\Documents\\\\KULIAH S1 SISTEM INFORMASI\\\\Kampus Merdeka\\\\MSIB\\\\MariBelajar\\\\Capstone Project\\\\get_data\\\\yt_com\\\\data24.csv',\n",
       " 'C:\\\\Users\\\\Laurence Nicholas S\\\\OneDrive\\\\Documents\\\\KULIAH S1 SISTEM INFORMASI\\\\Kampus Merdeka\\\\MSIB\\\\MariBelajar\\\\Capstone Project\\\\get_data\\\\yt_com\\\\data25.csv',\n",
       " 'C:\\\\Users\\\\Laurence Nicholas S\\\\OneDrive\\\\Documents\\\\KULIAH S1 SISTEM INFORMASI\\\\Kampus Merdeka\\\\MSIB\\\\MariBelajar\\\\Capstone Project\\\\get_data\\\\yt_com\\\\data26.csv',\n",
       " 'C:\\\\Users\\\\Laurence Nicholas S\\\\OneDrive\\\\Documents\\\\KULIAH S1 SISTEM INFORMASI\\\\Kampus Merdeka\\\\MSIB\\\\MariBelajar\\\\Capstone Project\\\\get_data\\\\yt_com\\\\data27.csv',\n",
       " 'C:\\\\Users\\\\Laurence Nicholas S\\\\OneDrive\\\\Documents\\\\KULIAH S1 SISTEM INFORMASI\\\\Kampus Merdeka\\\\MSIB\\\\MariBelajar\\\\Capstone Project\\\\get_data\\\\yt_com\\\\data28.csv',\n",
       " 'C:\\\\Users\\\\Laurence Nicholas S\\\\OneDrive\\\\Documents\\\\KULIAH S1 SISTEM INFORMASI\\\\Kampus Merdeka\\\\MSIB\\\\MariBelajar\\\\Capstone Project\\\\get_data\\\\yt_com\\\\data29.csv',\n",
       " 'C:\\\\Users\\\\Laurence Nicholas S\\\\OneDrive\\\\Documents\\\\KULIAH S1 SISTEM INFORMASI\\\\Kampus Merdeka\\\\MSIB\\\\MariBelajar\\\\Capstone Project\\\\get_data\\\\yt_com\\\\data30.csv',\n",
       " 'C:\\\\Users\\\\Laurence Nicholas S\\\\OneDrive\\\\Documents\\\\KULIAH S1 SISTEM INFORMASI\\\\Kampus Merdeka\\\\MSIB\\\\MariBelajar\\\\Capstone Project\\\\get_data\\\\yt_com\\\\data31.csv',\n",
       " 'C:\\\\Users\\\\Laurence Nicholas S\\\\OneDrive\\\\Documents\\\\KULIAH S1 SISTEM INFORMASI\\\\Kampus Merdeka\\\\MSIB\\\\MariBelajar\\\\Capstone Project\\\\get_data\\\\yt_com\\\\data32.csv',\n",
       " 'C:\\\\Users\\\\Laurence Nicholas S\\\\OneDrive\\\\Documents\\\\KULIAH S1 SISTEM INFORMASI\\\\Kampus Merdeka\\\\MSIB\\\\MariBelajar\\\\Capstone Project\\\\get_data\\\\yt_com\\\\data33.csv',\n",
       " 'C:\\\\Users\\\\Laurence Nicholas S\\\\OneDrive\\\\Documents\\\\KULIAH S1 SISTEM INFORMASI\\\\Kampus Merdeka\\\\MSIB\\\\MariBelajar\\\\Capstone Project\\\\get_data\\\\yt_com\\\\data34.csv',\n",
       " 'C:\\\\Users\\\\Laurence Nicholas S\\\\OneDrive\\\\Documents\\\\KULIAH S1 SISTEM INFORMASI\\\\Kampus Merdeka\\\\MSIB\\\\MariBelajar\\\\Capstone Project\\\\get_data\\\\yt_com\\\\data35.csv',\n",
       " 'C:\\\\Users\\\\Laurence Nicholas S\\\\OneDrive\\\\Documents\\\\KULIAH S1 SISTEM INFORMASI\\\\Kampus Merdeka\\\\MSIB\\\\MariBelajar\\\\Capstone Project\\\\get_data\\\\yt_com\\\\data36.csv',\n",
       " 'C:\\\\Users\\\\Laurence Nicholas S\\\\OneDrive\\\\Documents\\\\KULIAH S1 SISTEM INFORMASI\\\\Kampus Merdeka\\\\MSIB\\\\MariBelajar\\\\Capstone Project\\\\get_data\\\\yt_com\\\\data37.csv',\n",
       " 'C:\\\\Users\\\\Laurence Nicholas S\\\\OneDrive\\\\Documents\\\\KULIAH S1 SISTEM INFORMASI\\\\Kampus Merdeka\\\\MSIB\\\\MariBelajar\\\\Capstone Project\\\\get_data\\\\yt_com\\\\data38.csv',\n",
       " 'C:\\\\Users\\\\Laurence Nicholas S\\\\OneDrive\\\\Documents\\\\KULIAH S1 SISTEM INFORMASI\\\\Kampus Merdeka\\\\MSIB\\\\MariBelajar\\\\Capstone Project\\\\get_data\\\\yt_com\\\\data39.csv',\n",
       " 'C:\\\\Users\\\\Laurence Nicholas S\\\\OneDrive\\\\Documents\\\\KULIAH S1 SISTEM INFORMASI\\\\Kampus Merdeka\\\\MSIB\\\\MariBelajar\\\\Capstone Project\\\\get_data\\\\yt_com\\\\data40.csv',\n",
       " 'C:\\\\Users\\\\Laurence Nicholas S\\\\OneDrive\\\\Documents\\\\KULIAH S1 SISTEM INFORMASI\\\\Kampus Merdeka\\\\MSIB\\\\MariBelajar\\\\Capstone Project\\\\get_data\\\\yt_com\\\\data41.csv',\n",
       " 'C:\\\\Users\\\\Laurence Nicholas S\\\\OneDrive\\\\Documents\\\\KULIAH S1 SISTEM INFORMASI\\\\Kampus Merdeka\\\\MSIB\\\\MariBelajar\\\\Capstone Project\\\\get_data\\\\yt_com\\\\data42.csv',\n",
       " 'C:\\\\Users\\\\Laurence Nicholas S\\\\OneDrive\\\\Documents\\\\KULIAH S1 SISTEM INFORMASI\\\\Kampus Merdeka\\\\MSIB\\\\MariBelajar\\\\Capstone Project\\\\get_data\\\\yt_com\\\\data43.csv',\n",
       " 'C:\\\\Users\\\\Laurence Nicholas S\\\\OneDrive\\\\Documents\\\\KULIAH S1 SISTEM INFORMASI\\\\Kampus Merdeka\\\\MSIB\\\\MariBelajar\\\\Capstone Project\\\\get_data\\\\yt_com\\\\data44.csv',\n",
       " 'C:\\\\Users\\\\Laurence Nicholas S\\\\OneDrive\\\\Documents\\\\KULIAH S1 SISTEM INFORMASI\\\\Kampus Merdeka\\\\MSIB\\\\MariBelajar\\\\Capstone Project\\\\get_data\\\\yt_com\\\\data45.csv',\n",
       " 'C:\\\\Users\\\\Laurence Nicholas S\\\\OneDrive\\\\Documents\\\\KULIAH S1 SISTEM INFORMASI\\\\Kampus Merdeka\\\\MSIB\\\\MariBelajar\\\\Capstone Project\\\\get_data\\\\yt_com\\\\data46.csv',\n",
       " 'C:\\\\Users\\\\Laurence Nicholas S\\\\OneDrive\\\\Documents\\\\KULIAH S1 SISTEM INFORMASI\\\\Kampus Merdeka\\\\MSIB\\\\MariBelajar\\\\Capstone Project\\\\get_data\\\\yt_com\\\\data47.csv',\n",
       " 'C:\\\\Users\\\\Laurence Nicholas S\\\\OneDrive\\\\Documents\\\\KULIAH S1 SISTEM INFORMASI\\\\Kampus Merdeka\\\\MSIB\\\\MariBelajar\\\\Capstone Project\\\\get_data\\\\yt_com\\\\data48.csv',\n",
       " 'C:\\\\Users\\\\Laurence Nicholas S\\\\OneDrive\\\\Documents\\\\KULIAH S1 SISTEM INFORMASI\\\\Kampus Merdeka\\\\MSIB\\\\MariBelajar\\\\Capstone Project\\\\get_data\\\\yt_com\\\\data49.csv']"
      ]
     },
     "execution_count": 3,
     "metadata": {},
     "output_type": "execute_result"
    }
   ],
   "source": [
    "file_list = glob.glob(\"C:\\\\Users\\\\Laurence Nicholas S\\\\OneDrive\\\\Documents\\\\KULIAH S1 SISTEM INFORMASI\\\\Kampus Merdeka\\\\MSIB\\\\MariBelajar\\\\Capstone Project\\\\get_data\\\\yt_com\\\\*.csv\")\n",
    "file_list"
   ]
  },
  {
   "cell_type": "code",
   "execution_count": 4,
   "metadata": {},
   "outputs": [],
   "source": [
    "csv_list = []\n",
    "\n",
    "for file in file_list:\n",
    "\tcsv_list.append(pd.read_csv(file))"
   ]
  },
  {
   "cell_type": "code",
   "execution_count": 5,
   "metadata": {},
   "outputs": [],
   "source": [
    "csv_merged = pd.concat(csv_list, ignore_index=True)"
   ]
  },
  {
   "cell_type": "code",
   "execution_count": 6,
   "metadata": {},
   "outputs": [],
   "source": [
    "csv_merged.to_csv('allfixdatagabungan.csv', index=False)"
   ]
  },
  {
   "cell_type": "code",
   "execution_count": null,
   "metadata": {},
   "outputs": [],
   "source": []
  }
 ],
 "metadata": {
  "kernelspec": {
   "display_name": "Python 3",
   "language": "python",
   "name": "python3"
  },
  "language_info": {
   "codemirror_mode": {
    "name": "ipython",
    "version": 3
   },
   "file_extension": ".py",
   "mimetype": "text/x-python",
   "name": "python",
   "nbconvert_exporter": "python",
   "pygments_lexer": "ipython3",
   "version": "3.12.0"
  }
 },
 "nbformat": 4,
 "nbformat_minor": 2
}
