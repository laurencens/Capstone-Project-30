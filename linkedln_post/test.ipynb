{
 "cells": [
  {
   "cell_type": "code",
   "execution_count": 10,
   "metadata": {},
   "outputs": [],
   "source": [
    "from selenium import webdriver\n",
    "from bs4 import BeautifulSoup as bs\n",
    "from selenium.webdriver.common.by import By\n",
    "from selenium.webdriver.common.keys import Keys\n",
    "import time\n",
    "import pandas as pd\n",
    "import re as re\n"
   ]
  },
  {
   "cell_type": "code",
   "execution_count": 17,
   "metadata": {},
   "outputs": [
    {
     "ename": "AttributeError",
     "evalue": "'WebDriver' object has no attribute 'find_element_by_id'",
     "output_type": "error",
     "traceback": [
      "\u001b[1;31m---------------------------------------------------------------------------\u001b[0m",
      "\u001b[1;31mAttributeError\u001b[0m                            Traceback (most recent call last)",
      "\u001b[1;32mc:\\Users\\Laurence Nicholas S\\OneDrive\\Documents\\KULIAH S1 SISTEM INFORMASI\\Kampus Merdeka\\MSIB\\MariBelajar\\Capstone Project\\linkedln_post\\test.ipynb Cell 2\u001b[0m line \u001b[0;36m1\n\u001b[0;32m      <a href='vscode-notebook-cell:/c%3A/Users/Laurence%20Nicholas%20S/OneDrive/Documents/KULIAH%20S1%20SISTEM%20INFORMASI/Kampus%20Merdeka/MSIB/MariBelajar/Capstone%20Project/linkedln_post/test.ipynb#W3sZmlsZQ%3D%3D?line=6'>7</a>\u001b[0m driver\u001b[39m.\u001b[39mget(\u001b[39m'\u001b[39m\u001b[39mhttps://www.linkedin.com/login?fromSignIn=true&trk=guest_homepage-basic_nav-header-signin\u001b[39m\u001b[39m'\u001b[39m)\n\u001b[0;32m      <a href='vscode-notebook-cell:/c%3A/Users/Laurence%20Nicholas%20S/OneDrive/Documents/KULIAH%20S1%20SISTEM%20INFORMASI/Kampus%20Merdeka/MSIB/MariBelajar/Capstone%20Project/linkedln_post/test.ipynb#W3sZmlsZQ%3D%3D?line=8'>9</a>\u001b[0m \u001b[39m#Enter login info:\u001b[39;00m\n\u001b[1;32m---> <a href='vscode-notebook-cell:/c%3A/Users/Laurence%20Nicholas%20S/OneDrive/Documents/KULIAH%20S1%20SISTEM%20INFORMASI/Kampus%20Merdeka/MSIB/MariBelajar/Capstone%20Project/linkedln_post/test.ipynb#W3sZmlsZQ%3D%3D?line=9'>10</a>\u001b[0m elementID \u001b[39m=\u001b[39m driver\u001b[39m.\u001b[39;49mfind_element_by_id(\u001b[39m'\u001b[39m\u001b[39musername\u001b[39m\u001b[39m'\u001b[39m)\n\u001b[0;32m     <a href='vscode-notebook-cell:/c%3A/Users/Laurence%20Nicholas%20S/OneDrive/Documents/KULIAH%20S1%20SISTEM%20INFORMASI/Kampus%20Merdeka/MSIB/MariBelajar/Capstone%20Project/linkedln_post/test.ipynb#W3sZmlsZQ%3D%3D?line=10'>11</a>\u001b[0m elementID\u001b[39m.\u001b[39msend_keys(username)\n\u001b[0;32m     <a href='vscode-notebook-cell:/c%3A/Users/Laurence%20Nicholas%20S/OneDrive/Documents/KULIAH%20S1%20SISTEM%20INFORMASI/Kampus%20Merdeka/MSIB/MariBelajar/Capstone%20Project/linkedln_post/test.ipynb#W3sZmlsZQ%3D%3D?line=12'>13</a>\u001b[0m elementID \u001b[39m=\u001b[39m driver\u001b[39m.\u001b[39mfind_element_by_id(\u001b[39m'\u001b[39m\u001b[39mpassword\u001b[39m\u001b[39m'\u001b[39m)\n",
      "\u001b[1;31mAttributeError\u001b[0m: 'WebDriver' object has no attribute 'find_element_by_id'"
     ]
    }
   ],
   "source": [
    "driver = webdriver.Chrome()   # Initialize the Chrome\n",
    "# The link on the adress bar after searching for a job position.\n",
    "path = f'https://www.linkedin.com/search/results/content/?keywords=maribelajar%20studi%20independen&origin=SWITCH_SEARCH_VERTICAL&sid=wT8'\n",
    "driver.get(path)    # Go to the page\n",
    "\n",
    "#Open login page\n",
    "driver.get('https://www.linkedin.com/login?fromSignIn=true&trk=guest_homepage-basic_nav-header-signin')\n",
    "\n",
    "#Enter login info:\n",
    "elementID = driver.find_element_by_id('username')\n",
    "elementID.send_keys(username)\n",
    "\n",
    "elementID = driver.find_element_by_id('password')\n",
    "elementID.send_keys(password)\n",
    "#Note: replace the keys \"username\" and \"password\" with your LinkedIn login info\n",
    "elementID.submit()\n",
    "\n",
    "\n",
    "# In[28]:\n",
    "\n",
    "\n",
    "# #Go to webpage\n",
    "driver.get(page + 'posts/')\n",
    "\n",
    "\n",
    "# In[34]:"
   ]
  },
  {
   "cell_type": "code",
   "execution_count": null,
   "metadata": {},
   "outputs": [],
   "source": []
  }
 ],
 "metadata": {
  "kernelspec": {
   "display_name": "Python 3",
   "language": "python",
   "name": "python3"
  },
  "language_info": {
   "codemirror_mode": {
    "name": "ipython",
    "version": 3
   },
   "file_extension": ".py",
   "mimetype": "text/x-python",
   "name": "python",
   "nbconvert_exporter": "python",
   "pygments_lexer": "ipython3",
   "version": "3.12.0"
  }
 },
 "nbformat": 4,
 "nbformat_minor": 2
}
