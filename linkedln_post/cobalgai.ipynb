{
 "cells": [
  {
   "cell_type": "code",
   "execution_count": 1,
   "metadata": {},
   "outputs": [],
   "source": [
    "import os, random, sys, time\n",
    "from datetime import datetime\n",
    "from urllib.parse import urlparse\n",
    "from selenium import webdriver \n",
    "import numpy as np\n",
    "from bs4 import BeautifulSoup\n",
    "from selenium.webdriver.common.action_chains import ActionChains\n",
    "from selenium.webdriver.common.keys import Keys\n",
    "from selenium.webdriver.support.ui import WebDriverWait\n",
    "from selenium.webdriver.support import expected_conditions as EC\n",
    "from selenium.webdriver.common.by import By"
   ]
  },
  {
   "cell_type": "code",
   "execution_count": 2,
   "metadata": {},
   "outputs": [],
   "source": [
    "browser = webdriver.Edge('')\n",
    "\n",
    "\n",
    "#Replace with you username and password\n",
    "email = \"rentraaa20@gmail.com\"\n",
    "password = \"Ccd123456.\"\n",
    "\n",
    "time.sleep(10)"
   ]
  },
  {
   "cell_type": "code",
   "execution_count": 3,
   "metadata": {},
   "outputs": [],
   "source": [
    "#Open login page\n",
    "browser.get('https://www.linkedin.com/login?fromSignIn=true&trk=guest_homepage-basic_nav-header-signin')\n",
    "time.sleep(20)"
   ]
  },
  {
   "cell_type": "code",
   "execution_count": 4,
   "metadata": {},
   "outputs": [],
   "source": [
    "#Enter login info:\n",
    "elementID = browser.find_element(By.ID, 'username')\n",
    "elementID.send_keys(email)\n",
    "\n",
    "elementID = browser.find_element(By.ID,'password')\n",
    "elementID.send_keys(password)\n",
    "elementID.submit()\n",
    "\n",
    "time.sleep(10)\n"
   ]
  },
  {
   "cell_type": "code",
   "execution_count": 5,
   "metadata": {},
   "outputs": [],
   "source": [
    "browser.get('https://www.linkedin.com/search/results/content/?keywords=maribelajar%20studi%20independen&origin=FACETED_SEARCH&sid=kbg&sortBy=%22date_posted%22')\n",
    "\n",
    "time.sleep(10)"
   ]
  },
  {
   "cell_type": "code",
   "execution_count": 6,
   "metadata": {},
   "outputs": [],
   "source": [
    "SCROLL_PAUSE_TIME = 3\n",
    "# Get scroll height\n",
    "last_height = browser.execute_script(\"return document.body.scrollHeight\")\n",
    "for i in range(10):\n",
    "    browser.execute_script(\"window.scrollTo(0, document.body.scrollHeight);\")\n",
    "    time.sleep(SCROLL_PAUSE_TIME)\n",
    "    new_height = browser.execute_script(\"return document.body.scrollHeight\")\n",
    "    if new_height == last_height:\n",
    "        break\n",
    "    last_height = new_height\n",
    "html_element = browser.find_element(By.TAG_NAME, 'html')\n",
    "html_element.send_keys(Keys.CONTROL + Keys.HOME)"
   ]
  },
  {
   "cell_type": "code",
   "execution_count": 7,
   "metadata": {},
   "outputs": [
    {
     "name": "stdout",
     "output_type": "stream",
     "text": [
      "<selenium.webdriver.remote.webelement.WebElement (session=\"415544cfe4d7d9405b0205a4f164169a\", element=\"783D2D231F9993E81B96A0DC49EF2A24_element_119\")>\n",
      "<selenium.webdriver.remote.webelement.WebElement (session=\"415544cfe4d7d9405b0205a4f164169a\", element=\"783D2D231F9993E81B96A0DC49EF2A24_element_120\")>\n",
      "<selenium.webdriver.remote.webelement.WebElement (session=\"415544cfe4d7d9405b0205a4f164169a\", element=\"783D2D231F9993E81B96A0DC49EF2A24_element_121\")>\n",
      "<selenium.webdriver.remote.webelement.WebElement (session=\"415544cfe4d7d9405b0205a4f164169a\", element=\"783D2D231F9993E81B96A0DC49EF2A24_element_122\")>\n",
      "<selenium.webdriver.remote.webelement.WebElement (session=\"415544cfe4d7d9405b0205a4f164169a\", element=\"783D2D231F9993E81B96A0DC49EF2A24_element_123\")>\n",
      "<selenium.webdriver.remote.webelement.WebElement (session=\"415544cfe4d7d9405b0205a4f164169a\", element=\"783D2D231F9993E81B96A0DC49EF2A24_element_124\")>\n",
      "<selenium.webdriver.remote.webelement.WebElement (session=\"415544cfe4d7d9405b0205a4f164169a\", element=\"783D2D231F9993E81B96A0DC49EF2A24_element_125\")>\n",
      "<selenium.webdriver.remote.webelement.WebElement (session=\"415544cfe4d7d9405b0205a4f164169a\", element=\"783D2D231F9993E81B96A0DC49EF2A24_element_126\")>\n",
      "<selenium.webdriver.remote.webelement.WebElement (session=\"415544cfe4d7d9405b0205a4f164169a\", element=\"783D2D231F9993E81B96A0DC49EF2A24_element_127\")>\n",
      "<selenium.webdriver.remote.webelement.WebElement (session=\"415544cfe4d7d9405b0205a4f164169a\", element=\"783D2D231F9993E81B96A0DC49EF2A24_element_128\")>\n",
      "<selenium.webdriver.remote.webelement.WebElement (session=\"415544cfe4d7d9405b0205a4f164169a\", element=\"783D2D231F9993E81B96A0DC49EF2A24_element_129\")>\n",
      "<selenium.webdriver.remote.webelement.WebElement (session=\"415544cfe4d7d9405b0205a4f164169a\", element=\"783D2D231F9993E81B96A0DC49EF2A24_element_130\")>\n",
      "<selenium.webdriver.remote.webelement.WebElement (session=\"415544cfe4d7d9405b0205a4f164169a\", element=\"783D2D231F9993E81B96A0DC49EF2A24_element_131\")>\n",
      "<selenium.webdriver.remote.webelement.WebElement (session=\"415544cfe4d7d9405b0205a4f164169a\", element=\"783D2D231F9993E81B96A0DC49EF2A24_element_132\")>\n",
      "<selenium.webdriver.remote.webelement.WebElement (session=\"415544cfe4d7d9405b0205a4f164169a\", element=\"783D2D231F9993E81B96A0DC49EF2A24_element_133\")>\n",
      "<selenium.webdriver.remote.webelement.WebElement (session=\"415544cfe4d7d9405b0205a4f164169a\", element=\"783D2D231F9993E81B96A0DC49EF2A24_element_134\")>\n",
      "<selenium.webdriver.remote.webelement.WebElement (session=\"415544cfe4d7d9405b0205a4f164169a\", element=\"783D2D231F9993E81B96A0DC49EF2A24_element_135\")>\n",
      "<selenium.webdriver.remote.webelement.WebElement (session=\"415544cfe4d7d9405b0205a4f164169a\", element=\"783D2D231F9993E81B96A0DC49EF2A24_element_136\")>\n",
      "<selenium.webdriver.remote.webelement.WebElement (session=\"415544cfe4d7d9405b0205a4f164169a\", element=\"783D2D231F9993E81B96A0DC49EF2A24_element_137\")>\n",
      "<selenium.webdriver.remote.webelement.WebElement (session=\"415544cfe4d7d9405b0205a4f164169a\", element=\"783D2D231F9993E81B96A0DC49EF2A24_element_138\")>\n",
      "<selenium.webdriver.remote.webelement.WebElement (session=\"415544cfe4d7d9405b0205a4f164169a\", element=\"783D2D231F9993E81B96A0DC49EF2A24_element_139\")>\n",
      "<selenium.webdriver.remote.webelement.WebElement (session=\"415544cfe4d7d9405b0205a4f164169a\", element=\"783D2D231F9993E81B96A0DC49EF2A24_element_140\")>\n",
      "<selenium.webdriver.remote.webelement.WebElement (session=\"415544cfe4d7d9405b0205a4f164169a\", element=\"783D2D231F9993E81B96A0DC49EF2A24_element_141\")>\n",
      "<selenium.webdriver.remote.webelement.WebElement (session=\"415544cfe4d7d9405b0205a4f164169a\", element=\"783D2D231F9993E81B96A0DC49EF2A24_element_142\")>\n",
      "<selenium.webdriver.remote.webelement.WebElement (session=\"415544cfe4d7d9405b0205a4f164169a\", element=\"783D2D231F9993E81B96A0DC49EF2A24_element_143\")>\n",
      "<selenium.webdriver.remote.webelement.WebElement (session=\"415544cfe4d7d9405b0205a4f164169a\", element=\"783D2D231F9993E81B96A0DC49EF2A24_element_144\")>\n",
      "<selenium.webdriver.remote.webelement.WebElement (session=\"415544cfe4d7d9405b0205a4f164169a\", element=\"783D2D231F9993E81B96A0DC49EF2A24_element_145\")>\n",
      "<selenium.webdriver.remote.webelement.WebElement (session=\"415544cfe4d7d9405b0205a4f164169a\", element=\"783D2D231F9993E81B96A0DC49EF2A24_element_146\")>\n",
      "<selenium.webdriver.remote.webelement.WebElement (session=\"415544cfe4d7d9405b0205a4f164169a\", element=\"783D2D231F9993E81B96A0DC49EF2A24_element_147\")>\n",
      "<selenium.webdriver.remote.webelement.WebElement (session=\"415544cfe4d7d9405b0205a4f164169a\", element=\"783D2D231F9993E81B96A0DC49EF2A24_element_148\")>\n",
      "<selenium.webdriver.remote.webelement.WebElement (session=\"415544cfe4d7d9405b0205a4f164169a\", element=\"783D2D231F9993E81B96A0DC49EF2A24_element_149\")>\n",
      "<selenium.webdriver.remote.webelement.WebElement (session=\"415544cfe4d7d9405b0205a4f164169a\", element=\"783D2D231F9993E81B96A0DC49EF2A24_element_150\")>\n",
      "<selenium.webdriver.remote.webelement.WebElement (session=\"415544cfe4d7d9405b0205a4f164169a\", element=\"783D2D231F9993E81B96A0DC49EF2A24_element_151\")>\n",
      "<selenium.webdriver.remote.webelement.WebElement (session=\"415544cfe4d7d9405b0205a4f164169a\", element=\"783D2D231F9993E81B96A0DC49EF2A24_element_152\")>\n",
      "<selenium.webdriver.remote.webelement.WebElement (session=\"415544cfe4d7d9405b0205a4f164169a\", element=\"783D2D231F9993E81B96A0DC49EF2A24_element_153\")>\n",
      "<selenium.webdriver.remote.webelement.WebElement (session=\"415544cfe4d7d9405b0205a4f164169a\", element=\"783D2D231F9993E81B96A0DC49EF2A24_element_154\")>\n",
      "<selenium.webdriver.remote.webelement.WebElement (session=\"415544cfe4d7d9405b0205a4f164169a\", element=\"783D2D231F9993E81B96A0DC49EF2A24_element_155\")>\n",
      "<selenium.webdriver.remote.webelement.WebElement (session=\"415544cfe4d7d9405b0205a4f164169a\", element=\"783D2D231F9993E81B96A0DC49EF2A24_element_156\")>\n",
      "<selenium.webdriver.remote.webelement.WebElement (session=\"415544cfe4d7d9405b0205a4f164169a\", element=\"783D2D231F9993E81B96A0DC49EF2A24_element_157\")>\n",
      "<selenium.webdriver.remote.webelement.WebElement (session=\"415544cfe4d7d9405b0205a4f164169a\", element=\"783D2D231F9993E81B96A0DC49EF2A24_element_158\")>\n",
      "<selenium.webdriver.remote.webelement.WebElement (session=\"415544cfe4d7d9405b0205a4f164169a\", element=\"783D2D231F9993E81B96A0DC49EF2A24_element_159\")>\n",
      "<selenium.webdriver.remote.webelement.WebElement (session=\"415544cfe4d7d9405b0205a4f164169a\", element=\"783D2D231F9993E81B96A0DC49EF2A24_element_160\")>\n",
      "<selenium.webdriver.remote.webelement.WebElement (session=\"415544cfe4d7d9405b0205a4f164169a\", element=\"783D2D231F9993E81B96A0DC49EF2A24_element_161\")>\n",
      "<selenium.webdriver.remote.webelement.WebElement (session=\"415544cfe4d7d9405b0205a4f164169a\", element=\"783D2D231F9993E81B96A0DC49EF2A24_element_162\")>\n",
      "<selenium.webdriver.remote.webelement.WebElement (session=\"415544cfe4d7d9405b0205a4f164169a\", element=\"783D2D231F9993E81B96A0DC49EF2A24_element_163\")>\n",
      "<selenium.webdriver.remote.webelement.WebElement (session=\"415544cfe4d7d9405b0205a4f164169a\", element=\"783D2D231F9993E81B96A0DC49EF2A24_element_164\")>\n",
      "<selenium.webdriver.remote.webelement.WebElement (session=\"415544cfe4d7d9405b0205a4f164169a\", element=\"783D2D231F9993E81B96A0DC49EF2A24_element_165\")>\n",
      "<selenium.webdriver.remote.webelement.WebElement (session=\"415544cfe4d7d9405b0205a4f164169a\", element=\"783D2D231F9993E81B96A0DC49EF2A24_element_166\")>\n",
      "<selenium.webdriver.remote.webelement.WebElement (session=\"415544cfe4d7d9405b0205a4f164169a\", element=\"783D2D231F9993E81B96A0DC49EF2A24_element_167\")>\n",
      "<selenium.webdriver.remote.webelement.WebElement (session=\"415544cfe4d7d9405b0205a4f164169a\", element=\"783D2D231F9993E81B96A0DC49EF2A24_element_168\")>\n",
      "<selenium.webdriver.remote.webelement.WebElement (session=\"415544cfe4d7d9405b0205a4f164169a\", element=\"783D2D231F9993E81B96A0DC49EF2A24_element_169\")>\n",
      "<selenium.webdriver.remote.webelement.WebElement (session=\"415544cfe4d7d9405b0205a4f164169a\", element=\"783D2D231F9993E81B96A0DC49EF2A24_element_170\")>\n",
      "<selenium.webdriver.remote.webelement.WebElement (session=\"415544cfe4d7d9405b0205a4f164169a\", element=\"783D2D231F9993E81B96A0DC49EF2A24_element_171\")>\n",
      "<selenium.webdriver.remote.webelement.WebElement (session=\"415544cfe4d7d9405b0205a4f164169a\", element=\"783D2D231F9993E81B96A0DC49EF2A24_element_172\")>\n",
      "<selenium.webdriver.remote.webelement.WebElement (session=\"415544cfe4d7d9405b0205a4f164169a\", element=\"783D2D231F9993E81B96A0DC49EF2A24_element_173\")>\n",
      "<selenium.webdriver.remote.webelement.WebElement (session=\"415544cfe4d7d9405b0205a4f164169a\", element=\"783D2D231F9993E81B96A0DC49EF2A24_element_174\")>\n"
     ]
    }
   ],
   "source": [
    "# Scroll to the top of the page\n",
    "browser.execute_script(\"window.scrollTo(0, 0);\")\n",
    "\n",
    "# Wait for the buttons to be clickable\n",
    "connect_buttons = WebDriverWait(browser, 10).until(\n",
    "    EC.presence_of_all_elements_located((By.CLASS_NAME, 'feed-shared-inline-show-more-text__see-more-less-toggle'))\n",
    ")\n",
    "\n",
    "# Click on each button\n",
    "for connect_button in connect_buttons:\n",
    "    connect_button.click()\n",
    "    print(connect_button)"
   ]
  },
  {
   "cell_type": "code",
   "execution_count": 8,
   "metadata": {},
   "outputs": [],
   "source": [
    "timestamp = datetime.now()\n",
    "src = browser.page_source\n",
    "soup = BeautifulSoup(src, 'lxml')"
   ]
  },
  {
   "cell_type": "code",
   "execution_count": 9,
   "metadata": {},
   "outputs": [],
   "source": [
    "master_data = soup.find_all('div', {'class': 'update-components-actor__meta relative'})\n",
    "info = soup.find_all('div', {'class':'feed-shared-actor__meta'})"
   ]
  },
  {
   "cell_type": "code",
   "execution_count": 10,
   "metadata": {},
   "outputs": [
    {
     "name": "stdout",
     "output_type": "stream",
     "text": [
      "$$$$$$$$$$$$$$$$$$$$$$$$$*******************************************************************$$$$$$$$$$$$$$$$$$$$$$$$$$$$$\n",
      "$$$$$$$$$$$$$$$$$$$$$$$$$*******************************************************************$$$$$$$$$$$$$$$$$$$$$$$$$$$$$\n",
      "$$$$$$$$$$$$$$$$$$$$$$$$$*******************************************************************$$$$$$$$$$$$$$$$$$$$$$$$$$$$$\n",
      "$$$$$$$$$$$$$$$$$$$$$$$$$*******************************************************************$$$$$$$$$$$$$$$$$$$$$$$$$$$$$\n",
      "$$$$$$$$$$$$$$$$$$$$$$$$$*******************************************************************$$$$$$$$$$$$$$$$$$$$$$$$$$$$$\n",
      "$$$$$$$$$$$$$$$$$$$$$$$$$*******************************************************************$$$$$$$$$$$$$$$$$$$$$$$$$$$$$\n",
      "$$$$$$$$$$$$$$$$$$$$$$$$$*******************************************************************$$$$$$$$$$$$$$$$$$$$$$$$$$$$$\n",
      "$$$$$$$$$$$$$$$$$$$$$$$$$*******************************************************************$$$$$$$$$$$$$$$$$$$$$$$$$$$$$\n",
      "$$$$$$$$$$$$$$$$$$$$$$$$$*******************************************************************$$$$$$$$$$$$$$$$$$$$$$$$$$$$$\n",
      "$$$$$$$$$$$$$$$$$$$$$$$$$*******************************************************************$$$$$$$$$$$$$$$$$$$$$$$$$$$$$\n",
      "$$$$$$$$$$$$$$$$$$$$$$$$$*******************************************************************$$$$$$$$$$$$$$$$$$$$$$$$$$$$$\n",
      "$$$$$$$$$$$$$$$$$$$$$$$$$*******************************************************************$$$$$$$$$$$$$$$$$$$$$$$$$$$$$\n",
      "$$$$$$$$$$$$$$$$$$$$$$$$$*******************************************************************$$$$$$$$$$$$$$$$$$$$$$$$$$$$$\n",
      "$$$$$$$$$$$$$$$$$$$$$$$$$*******************************************************************$$$$$$$$$$$$$$$$$$$$$$$$$$$$$\n",
      "$$$$$$$$$$$$$$$$$$$$$$$$$*******************************************************************$$$$$$$$$$$$$$$$$$$$$$$$$$$$$\n",
      "$$$$$$$$$$$$$$$$$$$$$$$$$*******************************************************************$$$$$$$$$$$$$$$$$$$$$$$$$$$$$\n",
      "$$$$$$$$$$$$$$$$$$$$$$$$$*******************************************************************$$$$$$$$$$$$$$$$$$$$$$$$$$$$$\n",
      "$$$$$$$$$$$$$$$$$$$$$$$$$*******************************************************************$$$$$$$$$$$$$$$$$$$$$$$$$$$$$\n",
      "$$$$$$$$$$$$$$$$$$$$$$$$$*******************************************************************$$$$$$$$$$$$$$$$$$$$$$$$$$$$$\n",
      "$$$$$$$$$$$$$$$$$$$$$$$$$*******************************************************************$$$$$$$$$$$$$$$$$$$$$$$$$$$$$\n",
      "$$$$$$$$$$$$$$$$$$$$$$$$$*******************************************************************$$$$$$$$$$$$$$$$$$$$$$$$$$$$$\n",
      "$$$$$$$$$$$$$$$$$$$$$$$$$*******************************************************************$$$$$$$$$$$$$$$$$$$$$$$$$$$$$\n",
      "$$$$$$$$$$$$$$$$$$$$$$$$$*******************************************************************$$$$$$$$$$$$$$$$$$$$$$$$$$$$$\n",
      "$$$$$$$$$$$$$$$$$$$$$$$$$*******************************************************************$$$$$$$$$$$$$$$$$$$$$$$$$$$$$\n",
      "$$$$$$$$$$$$$$$$$$$$$$$$$*******************************************************************$$$$$$$$$$$$$$$$$$$$$$$$$$$$$\n",
      "$$$$$$$$$$$$$$$$$$$$$$$$$*******************************************************************$$$$$$$$$$$$$$$$$$$$$$$$$$$$$\n",
      "$$$$$$$$$$$$$$$$$$$$$$$$$*******************************************************************$$$$$$$$$$$$$$$$$$$$$$$$$$$$$\n",
      "$$$$$$$$$$$$$$$$$$$$$$$$$*******************************************************************$$$$$$$$$$$$$$$$$$$$$$$$$$$$$\n",
      "$$$$$$$$$$$$$$$$$$$$$$$$$*******************************************************************$$$$$$$$$$$$$$$$$$$$$$$$$$$$$\n",
      "$$$$$$$$$$$$$$$$$$$$$$$$$*******************************************************************$$$$$$$$$$$$$$$$$$$$$$$$$$$$$\n",
      "$$$$$$$$$$$$$$$$$$$$$$$$$*******************************************************************$$$$$$$$$$$$$$$$$$$$$$$$$$$$$\n",
      "$$$$$$$$$$$$$$$$$$$$$$$$$*******************************************************************$$$$$$$$$$$$$$$$$$$$$$$$$$$$$\n",
      "$$$$$$$$$$$$$$$$$$$$$$$$$*******************************************************************$$$$$$$$$$$$$$$$$$$$$$$$$$$$$\n",
      "$$$$$$$$$$$$$$$$$$$$$$$$$*******************************************************************$$$$$$$$$$$$$$$$$$$$$$$$$$$$$\n",
      "$$$$$$$$$$$$$$$$$$$$$$$$$*******************************************************************$$$$$$$$$$$$$$$$$$$$$$$$$$$$$\n",
      "$$$$$$$$$$$$$$$$$$$$$$$$$*******************************************************************$$$$$$$$$$$$$$$$$$$$$$$$$$$$$\n",
      "$$$$$$$$$$$$$$$$$$$$$$$$$*******************************************************************$$$$$$$$$$$$$$$$$$$$$$$$$$$$$\n",
      "$$$$$$$$$$$$$$$$$$$$$$$$$*******************************************************************$$$$$$$$$$$$$$$$$$$$$$$$$$$$$\n",
      "$$$$$$$$$$$$$$$$$$$$$$$$$*******************************************************************$$$$$$$$$$$$$$$$$$$$$$$$$$$$$\n",
      "$$$$$$$$$$$$$$$$$$$$$$$$$*******************************************************************$$$$$$$$$$$$$$$$$$$$$$$$$$$$$\n",
      "$$$$$$$$$$$$$$$$$$$$$$$$$*******************************************************************$$$$$$$$$$$$$$$$$$$$$$$$$$$$$\n",
      "$$$$$$$$$$$$$$$$$$$$$$$$$*******************************************************************$$$$$$$$$$$$$$$$$$$$$$$$$$$$$\n",
      "$$$$$$$$$$$$$$$$$$$$$$$$$*******************************************************************$$$$$$$$$$$$$$$$$$$$$$$$$$$$$\n",
      "$$$$$$$$$$$$$$$$$$$$$$$$$*******************************************************************$$$$$$$$$$$$$$$$$$$$$$$$$$$$$\n",
      "$$$$$$$$$$$$$$$$$$$$$$$$$*******************************************************************$$$$$$$$$$$$$$$$$$$$$$$$$$$$$\n",
      "$$$$$$$$$$$$$$$$$$$$$$$$$*******************************************************************$$$$$$$$$$$$$$$$$$$$$$$$$$$$$\n",
      "$$$$$$$$$$$$$$$$$$$$$$$$$*******************************************************************$$$$$$$$$$$$$$$$$$$$$$$$$$$$$\n",
      "$$$$$$$$$$$$$$$$$$$$$$$$$*******************************************************************$$$$$$$$$$$$$$$$$$$$$$$$$$$$$\n",
      "$$$$$$$$$$$$$$$$$$$$$$$$$*******************************************************************$$$$$$$$$$$$$$$$$$$$$$$$$$$$$\n",
      "$$$$$$$$$$$$$$$$$$$$$$$$$*******************************************************************$$$$$$$$$$$$$$$$$$$$$$$$$$$$$\n",
      "$$$$$$$$$$$$$$$$$$$$$$$$$*******************************************************************$$$$$$$$$$$$$$$$$$$$$$$$$$$$$\n",
      "$$$$$$$$$$$$$$$$$$$$$$$$$*******************************************************************$$$$$$$$$$$$$$$$$$$$$$$$$$$$$\n",
      "$$$$$$$$$$$$$$$$$$$$$$$$$*******************************************************************$$$$$$$$$$$$$$$$$$$$$$$$$$$$$\n",
      "$$$$$$$$$$$$$$$$$$$$$$$$$*******************************************************************$$$$$$$$$$$$$$$$$$$$$$$$$$$$$\n",
      "$$$$$$$$$$$$$$$$$$$$$$$$$*******************************************************************$$$$$$$$$$$$$$$$$$$$$$$$$$$$$\n",
      "$$$$$$$$$$$$$$$$$$$$$$$$$*******************************************************************$$$$$$$$$$$$$$$$$$$$$$$$$$$$$\n",
      "$$$$$$$$$$$$$$$$$$$$$$$$$*******************************************************************$$$$$$$$$$$$$$$$$$$$$$$$$$$$$\n",
      "$$$$$$$$$$$$$$$$$$$$$$$$$*******************************************************************$$$$$$$$$$$$$$$$$$$$$$$$$$$$$\n",
      "$$$$$$$$$$$$$$$$$$$$$$$$$*******************************************************************$$$$$$$$$$$$$$$$$$$$$$$$$$$$$\n",
      "$$$$$$$$$$$$$$$$$$$$$$$$$*******************************************************************$$$$$$$$$$$$$$$$$$$$$$$$$$$$$\n"
     ]
    }
   ],
   "source": [
    "a = []\n",
    "for i in range(len(master_data)):\n",
    "    for j in range(10):\n",
    "        try:\n",
    "            Name = master_data[i].find_all('div', {'class': 'update-components-actor__meta relative'})[j].find('span', {'dir':'ltr'}).get_text().strip()\n",
    "            Post = master_data[i].find_all('div', {'class': 'update-components-text relative update-components-update-v2__commentary'})[j].get_text().strip()\n",
    "            Content = master_data[i].find_all('div', {'class': 'feed-shared-text__text-view'})[j].get_text().strip()\n",
    "            print(Name)\n",
    "            a.append(Name)\n",
    "            print(Post)\n",
    "            a.append(Post)\n",
    "            print(Content)\n",
    "            a.append(Content)\n",
    "            print('TAGGED-------------')\n",
    "            a.append('Same post, tagged post:')\n",
    "            try:\n",
    "                links = master_data[i].find('a', {'class': 'feed-shared-article__meta'}).get('href')\n",
    "            except:\n",
    "                print(links)\n",
    "        except:\n",
    "            pass\n",
    "    a.append(' ')\n",
    "    a.append(' ')\n",
    "    print('$$$$$$$$$$$$$$$$$$$$$$$$$*******************************************************************$$$$$$$$$$$$$$$$$$$$$$$$$$$$$')"
   ]
  },
  {
   "cell_type": "code",
   "execution_count": null,
   "metadata": {},
   "outputs": [],
   "source": []
  }
 ],
 "metadata": {
  "kernelspec": {
   "display_name": "Python 3",
   "language": "python",
   "name": "python3"
  },
  "language_info": {
   "codemirror_mode": {
    "name": "ipython",
    "version": 3
   },
   "file_extension": ".py",
   "mimetype": "text/x-python",
   "name": "python",
   "nbconvert_exporter": "python",
   "pygments_lexer": "ipython3",
   "version": "3.12.0"
  }
 },
 "nbformat": 4,
 "nbformat_minor": 2
}
