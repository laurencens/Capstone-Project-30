{
 "cells": [
  {
   "cell_type": "code",
   "execution_count": 48,
   "metadata": {},
   "outputs": [],
   "source": [
    "from selenium import webdriver\n",
    "from selenium.webdriver.common.by import By\n",
    "from selenium.webdriver.support.ui import WebDriverWait\n",
    "from selenium.webdriver.support import expected_conditions as EC\n",
    "from selenium.common.exceptions import NoSuchElementException\n",
    "from selenium.common.exceptions import StaleElementReferenceException\n",
    "import time\n",
    "import openpyxl"
   ]
  },
  {
   "cell_type": "code",
   "execution_count": 49,
   "metadata": {},
   "outputs": [],
   "source": [
    "# Record the start time\n",
    "start_time = time.time()"
   ]
  },
  {
   "cell_type": "code",
   "execution_count": 50,
   "metadata": {},
   "outputs": [],
   "source": [
    "# Create a new Excel workbook\n",
    "workbook = openpyxl.Workbook()\n",
    "sheet = workbook.active"
   ]
  },
  {
   "cell_type": "code",
   "execution_count": 51,
   "metadata": {},
   "outputs": [],
   "source": [
    "# Add headers to the sheet\n",
    "sheet.append([\"User Name\", \"Job Position\", \"Company Name\", \"LinkedIn Profile URL\"])"
   ]
  },
  {
   "cell_type": "code",
   "execution_count": 52,
   "metadata": {},
   "outputs": [],
   "source": [
    "# Configure Chrome options\n",
    "chrome_options = webdriver.ChromeOptions()\n",
    "chrome_options.add_argument(\"--disable-notifications\")  # Disable notifications"
   ]
  },
  {
   "cell_type": "code",
   "execution_count": 53,
   "metadata": {},
   "outputs": [],
   "source": [
    "# Use the appropriate path to your ChromeDriver executable\n",
    "driver = webdriver.Chrome() "
   ]
  },
  {
   "cell_type": "code",
   "execution_count": 54,
   "metadata": {},
   "outputs": [],
   "source": [
    "#Replace with you username and password\n",
    "email = \"rentraaa20@gmail.com\"\n",
    "password = \"Ccd123456.\"\n",
    "\n",
    "time.sleep(10)"
   ]
  },
  {
   "cell_type": "code",
   "execution_count": 55,
   "metadata": {},
   "outputs": [],
   "source": [
    "#Open login page\n",
    "driver.get('https://www.linkedin.com/login?fromSignIn=true&trk=guest_homepage-basic_nav-header-signin')\n",
    "time.sleep(20)"
   ]
  },
  {
   "cell_type": "code",
   "execution_count": 56,
   "metadata": {},
   "outputs": [],
   "source": [
    "#Enter login info:\n",
    "elementID = driver.find_element(By.ID, 'username')\n",
    "elementID.send_keys(email)\n",
    "\n",
    "elementID = driver.find_element(By.ID,'password')\n",
    "elementID.send_keys(password)\n",
    "elementID.submit()\n",
    "\n",
    "time.sleep(10)"
   ]
  },
  {
   "cell_type": "code",
   "execution_count": 57,
   "metadata": {},
   "outputs": [],
   "source": [
    "# URL of the LinkedIn post\n",
    "post_url = input('Enter the LinkedIn Post URL:')\n",
    "# Open the LinkedIn post URL\n",
    "driver.get(post_url)"
   ]
  },
  {
   "cell_type": "code",
   "execution_count": 59,
   "metadata": {},
   "outputs": [
    {
     "ename": "NoSuchWindowException",
     "evalue": "Message: no such window: target window already closed\nfrom unknown error: web view not found\n  (Session info: chrome=119.0.6045.160)\nStacktrace:\n\tGetHandleVerifier [0x00007FF7340982B2+55298]\n\t(No symbol) [0x00007FF734005E02]\n\t(No symbol) [0x00007FF733EC05AB]\n\t(No symbol) [0x00007FF733EA0038]\n\t(No symbol) [0x00007FF733F26BC7]\n\t(No symbol) [0x00007FF733F3A15F]\n\t(No symbol) [0x00007FF733F21E83]\n\t(No symbol) [0x00007FF733EF670A]\n\t(No symbol) [0x00007FF733EF7964]\n\tGetHandleVerifier [0x00007FF734410AAB+3694587]\n\tGetHandleVerifier [0x00007FF73446728E+4048862]\n\tGetHandleVerifier [0x00007FF73445F173+4015811]\n\tGetHandleVerifier [0x00007FF7341347D6+695590]\n\t(No symbol) [0x00007FF734010CE8]\n\t(No symbol) [0x00007FF73400CF34]\n\t(No symbol) [0x00007FF73400D062]\n\t(No symbol) [0x00007FF733FFD3A3]\n\tBaseThreadInitThunk [0x00007FFE8C777344+20]\n\tRtlUserThreadStart [0x00007FFE8D2426B1+33]\n",
     "output_type": "error",
     "traceback": [
      "\u001b[1;31m---------------------------------------------------------------------------\u001b[0m",
      "\u001b[1;31mNoSuchWindowException\u001b[0m                     Traceback (most recent call last)",
      "\u001b[1;32mc:\\Users\\Laurence Nicholas S\\OneDrive\\Documents\\KULIAH S1 SISTEM INFORMASI\\Kampus Merdeka\\MSIB\\MariBelajar\\Capstone Project\\linkedln_post\\lagolago.ipynb Cell 11\u001b[0m line \u001b[0;36m3\n\u001b[0;32m      <a href='vscode-notebook-cell:/c%3A/Users/Laurence%20Nicholas%20S/OneDrive/Documents/KULIAH%20S1%20SISTEM%20INFORMASI/Kampus%20Merdeka/MSIB/MariBelajar/Capstone%20Project/linkedln_post/lagolago.ipynb#X15sZmlsZQ%3D%3D?line=0'>1</a>\u001b[0m time\u001b[39m.\u001b[39msleep(\u001b[39m5\u001b[39m)  \u001b[39m# Add a delay to ensure the page is fully loaded\u001b[39;00m\n\u001b[0;32m      <a href='vscode-notebook-cell:/c%3A/Users/Laurence%20Nicholas%20S/OneDrive/Documents/KULIAH%20S1%20SISTEM%20INFORMASI/Kampus%20Merdeka/MSIB/MariBelajar/Capstone%20Project/linkedln_post/lagolago.ipynb#X15sZmlsZQ%3D%3D?line=1'>2</a>\u001b[0m \u001b[39mtry\u001b[39;00m:\n\u001b[1;32m----> <a href='vscode-notebook-cell:/c%3A/Users/Laurence%20Nicholas%20S/OneDrive/Documents/KULIAH%20S1%20SISTEM%20INFORMASI/Kampus%20Merdeka/MSIB/MariBelajar/Capstone%20Project/linkedln_post/lagolago.ipynb#X15sZmlsZQ%3D%3D?line=2'>3</a>\u001b[0m     reactions_count_link \u001b[39m=\u001b[39m wait\u001b[39m.\u001b[39;49muntil(EC\u001b[39m.\u001b[39;49mvisibility_of_element_located((By\u001b[39m.\u001b[39;49mCLASS_NAME, \u001b[39m\"\u001b[39;49m\u001b[39msocial-details-social-counts__reactions-count\u001b[39;49m\u001b[39m\"\u001b[39;49m)))\n\u001b[0;32m      <a href='vscode-notebook-cell:/c%3A/Users/Laurence%20Nicholas%20S/OneDrive/Documents/KULIAH%20S1%20SISTEM%20INFORMASI/Kampus%20Merdeka/MSIB/MariBelajar/Capstone%20Project/linkedln_post/lagolago.ipynb#X15sZmlsZQ%3D%3D?line=3'>4</a>\u001b[0m     reactions_count_link\u001b[39m.\u001b[39mclick()\n\u001b[0;32m      <a href='vscode-notebook-cell:/c%3A/Users/Laurence%20Nicholas%20S/OneDrive/Documents/KULIAH%20S1%20SISTEM%20INFORMASI/Kampus%20Merdeka/MSIB/MariBelajar/Capstone%20Project/linkedln_post/lagolago.ipynb#X15sZmlsZQ%3D%3D?line=4'>5</a>\u001b[0m \u001b[39mexcept\u001b[39;00m StaleElementReferenceException:\n",
      "File \u001b[1;32mc:\\Users\\Laurence Nicholas S\\AppData\\Local\\Programs\\Python\\Python312\\Lib\\site-packages\\selenium\\webdriver\\support\\wait.py:92\u001b[0m, in \u001b[0;36mWebDriverWait.until\u001b[1;34m(self, method, message)\u001b[0m\n\u001b[0;32m     90\u001b[0m \u001b[39mwhile\u001b[39;00m \u001b[39mTrue\u001b[39;00m:\n\u001b[0;32m     91\u001b[0m     \u001b[39mtry\u001b[39;00m:\n\u001b[1;32m---> 92\u001b[0m         value \u001b[39m=\u001b[39m method(\u001b[39mself\u001b[39;49m\u001b[39m.\u001b[39;49m_driver)\n\u001b[0;32m     93\u001b[0m         \u001b[39mif\u001b[39;00m value:\n\u001b[0;32m     94\u001b[0m             \u001b[39mreturn\u001b[39;00m value\n",
      "File \u001b[1;32mc:\\Users\\Laurence Nicholas S\\AppData\\Local\\Programs\\Python\\Python312\\Lib\\site-packages\\selenium\\webdriver\\support\\expected_conditions.py:150\u001b[0m, in \u001b[0;36mvisibility_of_element_located.<locals>._predicate\u001b[1;34m(driver)\u001b[0m\n\u001b[0;32m    148\u001b[0m \u001b[39mdef\u001b[39;00m \u001b[39m_predicate\u001b[39m(driver: WebDriver):\n\u001b[0;32m    149\u001b[0m     \u001b[39mtry\u001b[39;00m:\n\u001b[1;32m--> 150\u001b[0m         \u001b[39mreturn\u001b[39;00m _element_if_visible(driver\u001b[39m.\u001b[39;49mfind_element(\u001b[39m*\u001b[39;49mlocator))\n\u001b[0;32m    151\u001b[0m     \u001b[39mexcept\u001b[39;00m StaleElementReferenceException:\n\u001b[0;32m    152\u001b[0m         \u001b[39mreturn\u001b[39;00m \u001b[39mFalse\u001b[39;00m\n",
      "File \u001b[1;32mc:\\Users\\Laurence Nicholas S\\AppData\\Local\\Programs\\Python\\Python312\\Lib\\site-packages\\selenium\\webdriver\\remote\\webdriver.py:741\u001b[0m, in \u001b[0;36mWebDriver.find_element\u001b[1;34m(self, by, value)\u001b[0m\n\u001b[0;32m    738\u001b[0m     by \u001b[39m=\u001b[39m By\u001b[39m.\u001b[39mCSS_SELECTOR\n\u001b[0;32m    739\u001b[0m     value \u001b[39m=\u001b[39m \u001b[39mf\u001b[39m\u001b[39m'\u001b[39m\u001b[39m[name=\u001b[39m\u001b[39m\"\u001b[39m\u001b[39m{\u001b[39;00mvalue\u001b[39m}\u001b[39;00m\u001b[39m\"\u001b[39m\u001b[39m]\u001b[39m\u001b[39m'\u001b[39m\n\u001b[1;32m--> 741\u001b[0m \u001b[39mreturn\u001b[39;00m \u001b[39mself\u001b[39;49m\u001b[39m.\u001b[39;49mexecute(Command\u001b[39m.\u001b[39;49mFIND_ELEMENT, {\u001b[39m\"\u001b[39;49m\u001b[39musing\u001b[39;49m\u001b[39m\"\u001b[39;49m: by, \u001b[39m\"\u001b[39;49m\u001b[39mvalue\u001b[39;49m\u001b[39m\"\u001b[39;49m: value})[\u001b[39m\"\u001b[39m\u001b[39mvalue\u001b[39m\u001b[39m\"\u001b[39m]\n",
      "File \u001b[1;32mc:\\Users\\Laurence Nicholas S\\AppData\\Local\\Programs\\Python\\Python312\\Lib\\site-packages\\selenium\\webdriver\\remote\\webdriver.py:347\u001b[0m, in \u001b[0;36mWebDriver.execute\u001b[1;34m(self, driver_command, params)\u001b[0m\n\u001b[0;32m    345\u001b[0m response \u001b[39m=\u001b[39m \u001b[39mself\u001b[39m\u001b[39m.\u001b[39mcommand_executor\u001b[39m.\u001b[39mexecute(driver_command, params)\n\u001b[0;32m    346\u001b[0m \u001b[39mif\u001b[39;00m response:\n\u001b[1;32m--> 347\u001b[0m     \u001b[39mself\u001b[39;49m\u001b[39m.\u001b[39;49merror_handler\u001b[39m.\u001b[39;49mcheck_response(response)\n\u001b[0;32m    348\u001b[0m     response[\u001b[39m\"\u001b[39m\u001b[39mvalue\u001b[39m\u001b[39m\"\u001b[39m] \u001b[39m=\u001b[39m \u001b[39mself\u001b[39m\u001b[39m.\u001b[39m_unwrap_value(response\u001b[39m.\u001b[39mget(\u001b[39m\"\u001b[39m\u001b[39mvalue\u001b[39m\u001b[39m\"\u001b[39m, \u001b[39mNone\u001b[39;00m))\n\u001b[0;32m    349\u001b[0m     \u001b[39mreturn\u001b[39;00m response\n",
      "File \u001b[1;32mc:\\Users\\Laurence Nicholas S\\AppData\\Local\\Programs\\Python\\Python312\\Lib\\site-packages\\selenium\\webdriver\\remote\\errorhandler.py:229\u001b[0m, in \u001b[0;36mErrorHandler.check_response\u001b[1;34m(self, response)\u001b[0m\n\u001b[0;32m    227\u001b[0m         alert_text \u001b[39m=\u001b[39m value[\u001b[39m\"\u001b[39m\u001b[39malert\u001b[39m\u001b[39m\"\u001b[39m]\u001b[39m.\u001b[39mget(\u001b[39m\"\u001b[39m\u001b[39mtext\u001b[39m\u001b[39m\"\u001b[39m)\n\u001b[0;32m    228\u001b[0m     \u001b[39mraise\u001b[39;00m exception_class(message, screen, stacktrace, alert_text)  \u001b[39m# type: ignore[call-arg]  # mypy is not smart enough here\u001b[39;00m\n\u001b[1;32m--> 229\u001b[0m \u001b[39mraise\u001b[39;00m exception_class(message, screen, stacktrace)\n",
      "\u001b[1;31mNoSuchWindowException\u001b[0m: Message: no such window: target window already closed\nfrom unknown error: web view not found\n  (Session info: chrome=119.0.6045.160)\nStacktrace:\n\tGetHandleVerifier [0x00007FF7340982B2+55298]\n\t(No symbol) [0x00007FF734005E02]\n\t(No symbol) [0x00007FF733EC05AB]\n\t(No symbol) [0x00007FF733EA0038]\n\t(No symbol) [0x00007FF733F26BC7]\n\t(No symbol) [0x00007FF733F3A15F]\n\t(No symbol) [0x00007FF733F21E83]\n\t(No symbol) [0x00007FF733EF670A]\n\t(No symbol) [0x00007FF733EF7964]\n\tGetHandleVerifier [0x00007FF734410AAB+3694587]\n\tGetHandleVerifier [0x00007FF73446728E+4048862]\n\tGetHandleVerifier [0x00007FF73445F173+4015811]\n\tGetHandleVerifier [0x00007FF7341347D6+695590]\n\t(No symbol) [0x00007FF734010CE8]\n\t(No symbol) [0x00007FF73400CF34]\n\t(No symbol) [0x00007FF73400D062]\n\t(No symbol) [0x00007FF733FFD3A3]\n\tBaseThreadInitThunk [0x00007FFE8C777344+20]\n\tRtlUserThreadStart [0x00007FFE8D2426B1+33]\n"
     ]
    }
   ],
   "source": [
    "time.sleep(5)  # Add a delay to ensure the page is fully loaded\n",
    "try:\n",
    "    reactions_count_link = wait.until(EC.visibility_of_element_located((By.CLASS_NAME, \"social-details-social-counts__reactions-count\")))\n",
    "    reactions_count_link.click()\n",
    "except StaleElementReferenceException:\n",
    "    reactions_count_link = wait.until(EC.visibility_of_element_located((By.CLASS_NAME, \"social-details-social-counts__reactions-count\")))\n",
    "    reactions_count_link.click()"
   ]
  },
  {
   "cell_type": "code",
   "execution_count": null,
   "metadata": {},
   "outputs": [],
   "source": []
  }
 ],
 "metadata": {
  "kernelspec": {
   "display_name": "Python 3",
   "language": "python",
   "name": "python3"
  },
  "language_info": {
   "codemirror_mode": {
    "name": "ipython",
    "version": 3
   },
   "file_extension": ".py",
   "mimetype": "text/x-python",
   "name": "python",
   "nbconvert_exporter": "python",
   "pygments_lexer": "ipython3",
   "version": "3.12.0"
  }
 },
 "nbformat": 4,
 "nbformat_minor": 2
}
